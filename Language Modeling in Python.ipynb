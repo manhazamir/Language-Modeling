{
 "cells": [
  {
   "cell_type": "markdown",
   "metadata": {},
   "source": [
    "### Natural Language Processing\n",
    "      Assignment : 2"
   ]
  },
  {
   "cell_type": "code",
   "execution_count": 1,
   "metadata": {},
   "outputs": [],
   "source": [
    "#Manha Zamir - 17L-4096"
   ]
  },
  {
   "cell_type": "code",
   "execution_count": 21,
   "metadata": {},
   "outputs": [],
   "source": [
    "import csv\n",
    "import spacy\n",
    "from collections import Counter\n",
    "import math\n",
    "import random"
   ]
  },
  {
   "cell_type": "markdown",
   "metadata": {},
   "source": [
    "#### Reading Training File"
   ]
  },
  {
   "cell_type": "code",
   "execution_count": 2,
   "metadata": {},
   "outputs": [],
   "source": [
    "with open('Train-perplexity.txt', 'rt', encoding=\"utf-8\") as f:\n",
    "    data = f.read().rstrip()    \n",
    "f.close()"
   ]
  },
  {
   "cell_type": "markdown",
   "metadata": {},
   "source": [
    "#### Tokenizing the corpus to a list of words"
   ]
  },
  {
   "cell_type": "code",
   "execution_count": 3,
   "metadata": {},
   "outputs": [
    {
     "name": "stdout",
     "output_type": "stream",
     "text": [
      "1542\n",
      "658\n"
     ]
    }
   ],
   "source": [
    "data = data.lower()\n",
    "nlp = spacy.load(\"en_core_web_sm\")     #Using spacy to tokenize\n",
    "doc = nlp(data)\n",
    "tokens = []\n",
    "for token in doc:\n",
    "    tokens.append(token.text.strip())\n",
    "tokens = list(filter(None, tokens))\n",
    "\n",
    "punctuations = ['.', ',', ':', '?', '!', ';', '-', '\\\"']\n",
    "for word in tokens:\n",
    "    if word in punctuations:\n",
    "        tokens.remove(word)\n",
    "# print(tokens)\n",
    "print(len(tokens))\n",
    "set_of_tokens = set(tokens)   #Unique words\n",
    "print(len(set_of_tokens))"
   ]
  },
  {
   "cell_type": "markdown",
   "metadata": {},
   "source": [
    "#### Generate n-gram models\n",
    "    Unigram, Bigram, Trigram"
   ]
  },
  {
   "cell_type": "code",
   "execution_count": 4,
   "metadata": {},
   "outputs": [
    {
     "name": "stdout",
     "output_type": "stream",
     "text": [
      "1542\n",
      "1541\n",
      "1540\n"
     ]
    }
   ],
   "source": [
    "unigrams, bigrams, trigrams = [], [], []\n",
    "bigram_div, trigram_div  = [], []    \n",
    "\n",
    "#Unigram\n",
    "for index in tokens:\n",
    "\n",
    "    unigrams.append(index)     #Generating unigrams\n",
    "# print(unigrams)\n",
    "\n",
    "#Bigram\n",
    "for index in range(len(tokens)-1):\n",
    "\n",
    "    b_first = tokens[index]\n",
    "    bigram_div.append(b_first)  #Used later to calculate probabilities of bigram (eg: P(I am/ I), where 'I' is bigram_div)\n",
    "    b_second = tokens[index+1]\n",
    "    bi = b_first + \" \" + b_second\n",
    "    bigrams.append(bi)        #Generating bigrams\n",
    "# print(bigrams)\n",
    "\n",
    "#Trigram\n",
    "for index in range(len(tokens)-2):\n",
    "\n",
    "    t_first = tokens[index]\n",
    "    t_second = tokens[index+1]\n",
    "    trigram_div.append(t_first + \" \" + t_second) #Used later to calculate trigram probabilities (eg: P(I am new/ I am), where 'I am' is trigram_div)\n",
    "    t_third = tokens[index+2]\n",
    "    tri = t_first + \" \" + t_second + \" \" + t_third\n",
    "    trigrams.append(tri)     #Generating unigrams    \n",
    "# print(trigrams)\n",
    "    \n",
    "print(len(unigrams))\n",
    "print(len(bigrams))\n",
    "print(len(trigrams))"
   ]
  },
  {
   "cell_type": "markdown",
   "metadata": {},
   "source": [
    "#### Frequency of each combination of models"
   ]
  },
  {
   "cell_type": "code",
   "execution_count": 5,
   "metadata": {},
   "outputs": [
    {
     "name": "stdout",
     "output_type": "stream",
     "text": [
      "658\n",
      "Unigram Frequency\n",
      "\n",
      "{'to': 23, 'this': 10, 'urn': 1, 'let': 1, 'those': 1, 'repair': 1, 'that': 17, 'are': 5, 'either': 1, 'true': 3, 'or': 2, 'fair': 1, 'for': 6, 'these': 6, 'dead': 1, 'birds': 1, 'sigh': 1, 'a': 20, 'prayer': 1, 'sir': 1, 'charles': 1, 'into': 4, 'my': 12, 'chamber': 1, 'coming': 1, 'in': 38, 'when': 2, 'i': 19, 'was': 2, 'writing': 1, 'of': 67, 'fairy': 3, 'queen': 4, 'praysaid': 1, 'hewhen': 1, 'mab': 2, 'you': 8, 'do': 1, 'see': 1, 'present': 2, 'service': 2, 'her': 7, 'majesty': 1, 'and': 68, 'tell': 4, 'have': 3, 'heard': 2, 'fames': 1, 'loud': 1, 'report': 1, 'both': 2, 'beauty': 1, 'stately': 1, 'court': 2, 'within': 1, 'fancy': 2, 'viewed': 1, 'thoughts': 2, 'bowed': 1, 'low': 1, 'fearing': 1, 'should': 9, 'be': 2, 'rude': 2, 'kissing': 1, 'garment': 1, 'thin': 1, 'which': 4, 'made': 2, 'knelt': 1, 'upon': 6, 'thought': 1, 'like': 8, 'one': 1, 'prayed': 2, 'then': 4, 'whispers': 1, 'soft': 1, 'did': 2, 'his': 10, 'humble': 2, 'mirth': 1, 'sent': 1, 'thus': 1, 'by': 9, 'imagination': 1, 'been': 1, 'seen': 1, 'the': 148, 'our': 4, 'vice': 3, 'runs': 1, 'beyond': 2, 'all': 12, 'old': 1, 'men': 4, 'saw': 2, 'far': 3, 'authentically': 1, 'above': 1, 'laws': 1, 'scorning': 1, 'virtues': 1, 'safe': 1, 'golden': 1, 'mean': 1, 'sits': 1, 'uncontrolled': 1, 'high': 1, 'extreme': 1, 'circes': 1, 'thy': 7, 'monsters': 1, 'painted': 1, 'out': 2, 'hue': 1, 'feigned': 1, 'filthiness': 1, 'but': 2, 'ours': 1, 'is': 2, 'puts': 1, 'down': 2, 'proverbs': 1, 'themes': 1, 'excels': 1, 'fables': 1, 'dreams': 1, 'lo': 1, 'man': 1, 'whose': 5, 'muse': 3, 'whilome': 1, 'maske': 1, 'as': 5, 'time': 2, 'taught': 1, 'lowly': 1, 'shepheards': 1, 'weeds': 1, 'am': 1, 'now': 2, 'enforst': 1, 'unfitter': 1, 'taske': 1, 'trumpets': 1, 'sterne': 1, 'chaunge': 1, 'mine': 3, 'oaten': 1, 'reeds': 2, 'sing': 1, 'knights': 2, 'ladies': 1, 'gentle': 2, 'deeds': 1, 'prayses': 1, 'having': 1, 'slept': 1, 'silence': 1, 'long': 3, 'me': 6, 'too': 3, 'meane': 1, 'sacred': 1, 'areeds': 1, 'blazon': 1, 'broad': 1, 'emongst': 1, 'learned': 1, 'throng': 1, 'fierce': 1, 'warres': 1, 'faithful': 1, 'loves': 2, 'shall': 1, 'moralize': 1, 'song': 6, 'helpe': 2, 'o': 4, 'holy': 1, 'virgin': 1, 'chiefe': 1, 'nine': 1, 'weaker': 1, 'novice': 1, 'performe': 1, 'will': 1, 'lay': 3, 'forth': 1, 'thine': 2, 'everlasting': 1, 'scryne': 1, 'antique': 1, 'rolles': 1, 'there': 4, 'lye': 1, 'hidden': 1, 'still': 2, 'faerie': 1, 'fairest': 1, 'tanaquill': 1, 'whom': 1, 'most': 2, 'noble': 1, 'briton': 1, 'prince': 1, 'so': 5, 'sought': 1, 'through': 5, 'world': 2, 'suffered': 2, 'much': 1, 'ill': 1, 'must': 1, 'rue': 1, 'undeserved': 1, 'wrong': 1, 'thou': 2, 'weake': 1, 'wit': 1, 'sharpen': 1, 'dull': 1, 'tong': 1, 'dreaded': 1, 'impe': 1, 'highest': 1, 'jove': 1, 'faire': 2, 'venus': 1, 'sonne': 1, 'with': 18, 'cruell': 1, 'dart': 1, 'at': 1, 'good': 2, 'knight': 1, 'cunningly': 1, 'didst': 1, 'rove': 1, 'glorious': 2, 'fire': 4, 'it': 9, 'kindled': 2, 'hart': 1, 'deadly': 1, 'heben': 1, 'bow': 1, 'apart': 1, 'mother': 1, 'milde': 1, 'come': 2, 'ayde': 1, 'bring': 1, 'triumphant': 1, 'mart': 1, 'jollities': 1, 'arrayd': 1, 'after': 1, 'murdrous': 1, 'spoiles': 1, 'bloudy': 1, 'rage': 1, 'allayd': 1, 'them': 8, 'eke': 1, 'goddesse': 1, 'heavenly': 1, 'bright': 1, 'mirrour': 1, 'grace': 1, 'majestie': 1, 'divine': 1, 'great': 7, 'lady': 1, 'greatest': 1, 'isle': 1, 'light': 3, 'phoebus': 1, 'lampe': 1, 'throughout': 1, 'doth': 1, 'shine': 1, 'shed': 1, 'beames': 1, 'feeble': 2, 'eyne': 1, 'raise': 1, 'vile': 1, 'thinke': 1, 'type': 1, 'argument': 1, 'afflicted': 1, 'stile': 1, 'heare': 1, 'vouchsafe': 1, 'dearest': 1, 'dred': 1, 'while': 2, 'hiawatha': 6, 'especially': 1, '\"': 15, 'wah': 2, 'taysee': 1, 'little': 5, 'fly': 1, 'flitting': 1, 'white': 5, 'insect': 1, 'dancing': 1, 'creature': 1, 'your': 3, 'candle': 1, 'ere': 2, 'bed': 1, 'sleep': 1, 'close': 1, 'eyelids': 1, 'ask': 3, 'whence': 2, 'stories': 1, 'legends': 3, 'traditions': 3, 'odors': 1, 'forest': 6, 'dew': 1, 'damp': 1, 'meadows': 2, 'curling': 1, 'smoke': 3, 'wigwams': 1, 'rushing': 3, 'rivers': 4, 'their': 5, 'frequent': 1, 'repetitions': 1, 'wild': 5, 'reverberations': 1, 'thunder': 2, 'mountains': 5, 'answer': 3, 'from': 13, 'forests': 1, 'prairies': 2, 'lakes': 2, 'northland': 1, 'land': 2, 'ojibways': 1, 'dacotahs': 1, 'moors': 1, 'fen': 2, 'lands': 2, 'where': 3, 'heron': 2, 'shuh': 4, 'gah': 2, 'feeds': 1, 'among': 2, 'rushes': 1, 'repeat': 1, 'lips': 1, 'nawadaha': 4, 'musician': 1, 'sweet': 1, 'singer': 3, 'found': 2, 'songs': 1, 'wayward': 1, \"bird's\": 1, 'nests': 1, 'lodges': 1, 'beaver': 1, 'hoofprint': 1, 'bison': 1, 'eyry': 1, 'eagle': 1, 'fowl': 1, 'sang': 4, 'him': 1, 'moorlands': 1, 'melancholy': 1, 'marshes': 1, 'chetowaik': 1, 'plover': 1, 'mahng': 1, 'loon': 1, 'goose': 1, 'wawa': 1, 'blue': 1, 'grouse': 1, 'mushkodasa': 1, 'if': 1, 'further': 1, 'us': 2, 'inquiries': 1, 'straightway': 1, 'such': 1, 'words': 1, 'follow': 1, 'vale': 2, 'tawasentha': 2, 'green': 5, 'silent': 2, 'valley': 3, 'pleasant': 2, 'water': 2, 'courses': 2, 'dwelt': 2, 'round': 1, 'about': 1, 'indian': 2, 'village': 1, 'spread': 1, 'corn': 1, 'fields': 1, 'stood': 4, 'groves': 2, 'singing': 2, 'pine': 2, 'trees': 2, 'summer': 2, 'winter': 2, 'ever': 3, 'sighing': 1, 'could': 1, 'trace': 1, 'spring': 1, 'alders': 1, 'fog': 1, 'autumn': 1, 'black': 1, 'line': 2, 'beside': 1, 'he': 6, 'wondrous': 1, 'birth': 1, 'being': 1, 'how': 3, 'fasted': 1, 'lived': 1, 'toiled': 1, 'tribes': 4, 'might': 2, 'prosper': 1, 'advance': 1, 'people': 2, 'ye': 4, 'who': 5, 'love': 6, 'haunts': 1, 'nature': 2, 'sunshine': 1, 'meadow': 3, 'shadow': 1, 'wind': 1, 'branches': 1, 'rain': 1, 'shower': 1, 'snow': 2, 'storm': 1, 'palisades': 1, 'innumerable': 1, 'echoes': 1, 'flap': 1, 'eagles': 1, 'eyries;--': 1, 'listen': 4, 'nation': 1, \"'s\": 2, 'ballads': 1, 'voices': 1, 'afar': 1, 'off': 2, 'call': 1, 'pause': 2, 'speak': 1, 'tones': 1, 'plain': 1, 'childlike': 1, 'scarcely': 1, 'can': 1, 'ear': 1, 'distinguish': 1, 'whether': 1, 'they': 4, 'sung': 1, 'spoken;--': 1, 'legend': 1, 'hearts': 1, 'fresh': 1, 'simple': 2, 'faith': 1, 'god': 2, 'believe': 1, 'ages': 1, 'every': 1, 'human': 2, 'heart': 2, 'even': 1, 'savage': 1, 'bosoms': 1, 'longings': 1, 'yearnings': 1, 'strivings': 1, 'comprehend': 1, 'not': 1, 'hands': 1, 'helpless': 1, 'groping': 1, 'blindly': 1, 'darkness': 3, 'touch': 1, 'right': 1, 'hand': 3, 'lifted': 1, 'up': 1, 'strengthened;--': 1, 'story': 1, 'sometimes': 1, 'rambles': 1, 'lanes': 1, 'country': 1, 'tangled': 1, 'barberry': 1, 'bushes': 1, 'hang': 1, 'tufts': 1, 'crimson': 1, 'berries': 1, 'over': 1, 'stone': 4, 'walls': 1, 'gray': 1, 'mosses': 1, 'some': 1, 'neglected': 1, 'graveyard': 1, 'ponder': 1, 'on': 5, 'half': 1, 'effaced': 1, 'inscription': 2, 'written': 1, 'skill': 1, 'craft': 1, 'homely': 1, 'phrases': 1, 'each': 1, 'letter': 1, 'full': 2, 'hope': 1, 'yet': 1, 'break': 1, 'tender': 1, 'pathos': 1, 'stay': 1, 'read': 2, 'red': 5, 'pipe': 8, 'quarry': 4, 'gitche': 3, 'manito': 3, 'mighty': 3, 'master': 1, 'life': 1, 'descending': 1, 'crags': 1, 'erect': 2, 'called': 2, 'nations': 4, 'together': 4, 'footprints': 1, 'flowed': 1, 'river': 2, 'leaped': 1, 'morning': 2, \"o'er\": 2, 'precipice': 1, 'plunging': 1, 'downward': 1, 'gleamed': 1, 'ishkoodah': 1, 'comet': 1, 'spirit': 1, 'stooping': 1, 'earthward': 1, 'finger': 1, 'traced': 1, 'winding': 1, 'pathway': 1, 'saying': 1, 'run': 1, 'way': 1, 'broke': 2, 'fragment': 1, 'moulded': 1, 'head': 1, 'shaped': 1, 'fashioned': 1, 'figures': 1, 'margin': 1, 'took': 1, 'reed': 1, 'stem': 1, 'its': 2, 'dark': 1, 'leaves': 1, 'filled': 1, 'bark': 2, 'willow': 3, 'breathed': 1, 'neighboring': 1, 'boughs': 1, 'chafe': 1, 'till': 3, 'flame': 1, 'burst': 1, 'smoked': 1, 'calumet': 1, 'peace': 3, 'signal': 4, 'rose': 1, 'slowly': 2, 'tranquil': 1, 'air': 1, 'first': 1, 'single': 1, 'denser': 1, 'bluer': 1, 'vapor': 1, 'cloud': 1, 'unfolding': 1, 'tree': 1, 'tops': 1, 'rising': 3, 'touched': 1, 'top': 1, 'heaven': 2, 'against': 1, 'rolled': 1, 'outward': 1, 'around': 1, 'tuscaloosa': 1, 'rocky': 1, 'northern': 1, 'beheld': 1, 'distant': 1, 'ascending': 1, 'prophets': 1, 'bending': 1, 'wand': 1, 'waving': 1, 'beckons': 1, 'calls': 2, 'warriors': 3, 'council': 1, 'came': 1, 'drawn': 1}\n",
      "1295\n",
      "\n",
      "Bigram Frequency\n",
      "\n",
      "{'to this': 6, 'this urn': 1, 'urn let': 1, 'let those': 1, 'those repair': 1, 'repair that': 1, 'that are': 1, 'are either': 1, 'either true': 1, 'true or': 1, 'or fair': 1, 'fair for': 1, 'for these': 1, 'these dead': 1, 'dead birds': 1, 'birds sigh': 1, 'sigh a': 1, 'a prayer': 1, 'prayer sir': 1, 'sir charles': 1, 'charles into': 1, 'into my': 2, 'my chamber': 1, 'chamber coming': 1, 'coming in': 1, 'in when': 1, 'when i': 2, 'i was': 1, 'was writing': 1, 'writing of': 1, 'of my': 1, 'my fairy': 1, 'fairy queen': 2, 'queen i': 1, 'i praysaid': 1, 'praysaid hewhen': 1, 'hewhen queen': 1, 'queen mab': 2, 'mab you': 1, 'you do': 1, 'do see': 1, 'see present': 1, 'present my': 1, 'my service': 1, 'service to': 1, 'to her': 1, 'her majesty': 1, 'majesty and': 1, 'and tell': 1, 'tell her': 1, 'her i': 1, 'i have': 2, 'have heard': 1, 'heard fames': 1, 'fames loud': 1, 'loud report': 1, 'report both': 1, 'both of': 1, 'of her': 1, 'her beauty': 1, 'beauty and': 1, 'and her': 1, 'her stately': 1, 'stately court': 1, 'court when': 1, 'i queen': 1, 'mab within': 1, 'within my': 1, 'my fancy': 1, 'fancy viewed': 1, 'viewed my': 1, 'my thoughts': 2, 'thoughts bowed': 1, 'bowed low': 1, 'low fearing': 1, 'fearing i': 1, 'i should': 6, 'should be': 1, 'be rude': 1, 'rude kissing': 1, 'kissing her': 1, 'her garment': 1, 'garment thin': 1, 'thin which': 1, 'which fancy': 1, 'fancy made': 1, 'made i': 1, 'i knelt': 1, 'knelt upon': 1, 'upon a': 1, 'a thought': 1, 'thought like': 1, 'like one': 1, 'one that': 1, 'that prayed': 1, 'prayed and': 2, 'and then': 1, 'then in': 1, 'in whispers': 1, 'whispers soft': 1, 'soft i': 1, 'i did': 1, 'did present': 1, 'present his': 1, 'his humble': 1, 'humble service': 1, 'service which': 1, 'which in': 1, 'in mirth': 1, 'mirth was': 1, 'was sent': 1, 'sent thus': 1, 'thus by': 1, 'by imagination': 1, 'imagination i': 1, 'have been': 1, 'been in': 1, 'in fairy': 1, 'fairy court': 1, 'court and': 1, 'and seen': 1, 'seen the': 1, 'the fairy': 1, 'queen our': 1, 'our vice': 3, 'vice runs': 1, 'runs beyond': 1, 'beyond all': 1, 'all that': 1, 'that old': 1, 'old men': 1, 'men saw': 1, 'saw and': 1, 'and far': 1, 'far authentically': 1, 'authentically above': 1, 'above our': 1, 'our laws': 1, 'laws and': 1, 'and scorning': 1, 'scorning virtues': 1, 'virtues safe': 1, 'safe and': 1, 'and golden': 1, 'golden mean': 1, 'mean sits': 1, 'sits uncontrolled': 1, 'uncontrolled upon': 1, 'upon the': 3, 'the high': 1, 'high extreme': 1, 'extreme circes': 1, 'circes thy': 1, 'thy monsters': 1, 'monsters painted': 1, 'painted out': 1, 'out the': 1, 'the hue': 1, 'hue of': 1, 'of feigned': 1, 'feigned filthiness': 1, 'filthiness but': 1, 'but ours': 1, 'ours is': 1, 'is true': 1, 'true our': 1, 'vice puts': 1, 'puts down': 1, 'down all': 1, 'all proverbs': 1, 'proverbs and': 1, 'and all': 2, 'all themes': 1, 'themes our': 1, 'vice excels': 1, 'excels all': 1, 'all fables': 1, 'fables and': 1, 'all dreams': 1, 'dreams lo': 1, 'lo i': 1, 'i the': 1, 'the man': 1, 'man whose': 1, 'whose muse': 1, 'muse whilome': 1, 'whilome did': 1, 'did maske': 1, 'maske as': 1, 'as time': 1, 'time her': 1, 'her taught': 1, 'taught in': 1, 'in lowly': 1, 'lowly shepheards': 1, 'shepheards weeds': 1, 'weeds am': 1, 'am now': 1, 'now enforst': 1, 'enforst a': 1, 'a far': 1, 'far unfitter': 1, 'unfitter taske': 1, 'taske for': 1, 'for trumpets': 1, 'trumpets sterne': 1, 'sterne to': 1, 'to chaunge': 1, 'chaunge mine': 1, 'mine oaten': 1, 'oaten reeds': 1, 'reeds and': 2, 'and sing': 1, 'sing of': 1, 'of knights': 1, 'knights and': 2, 'and ladies': 1, 'ladies gentle': 1, 'gentle deeds': 1, 'deeds whose': 1, 'whose prayses': 1, 'prayses having': 1, 'having slept': 1, 'slept in': 1, 'in silence': 1, 'silence long': 1, 'long me': 1, 'me all': 1, 'all too': 1, 'too meane': 1, 'meane the': 1, 'the sacred': 1, 'sacred muse': 1, 'muse areeds': 1, 'areeds to': 1, 'to blazon': 1, 'blazon broad': 1, 'broad emongst': 1, 'emongst her': 1, 'her learned': 1, 'learned throng': 1, 'throng fierce': 1, 'fierce warres': 1, 'warres and': 1, 'and faithful': 1, 'faithful loves': 1, 'loves shall': 1, 'shall moralize': 1, 'moralize my': 1, 'my song': 1, 'song helpe': 1, 'helpe then': 1, 'then o': 1, 'o holy': 1, 'holy virgin': 1, 'virgin chiefe': 1, 'chiefe of': 1, 'of nine': 1, 'nine thy': 1, 'thy weaker': 1, 'weaker novice': 1, 'novice to': 1, 'to performe': 1, 'performe thy': 1, 'thy will': 1, 'will lay': 1, 'lay forth': 1, 'forth out': 1, 'out of': 1, 'of thine': 2, 'thine everlasting': 1, 'everlasting scryne': 1, 'scryne the': 1, 'the antique': 1, 'antique rolles': 1, 'rolles which': 1, 'which there': 1, 'there lye': 1, 'lye hidden': 1, 'hidden still': 1, 'still of': 1, 'of faerie': 1, 'faerie knights': 1, 'and fairest': 1, 'fairest tanaquill': 1, 'tanaquill whom': 1, 'whom that': 1, 'that most': 1, 'most noble': 1, 'noble briton': 1, 'briton prince': 1, 'prince so': 1, 'so long': 1, 'long sought': 1, 'sought through': 1, 'through the': 4, 'the world': 2, 'world and': 1, 'and suffered': 2, 'suffered so': 1, 'so much': 1, 'much ill': 1, 'ill that': 1, 'that i': 1, 'i must': 1, 'must rue': 1, 'rue his': 1, 'his undeserved': 1, 'undeserved wrong': 1, 'wrong o': 1, 'o helpe': 1, 'helpe thou': 1, 'thou my': 1, 'my weake': 1, 'weake wit': 1, 'wit and': 1, 'and sharpen': 1, 'sharpen my': 1, 'my dull': 1, 'dull tong': 1, 'tong and': 1, 'and thou': 1, 'thou most': 1, 'most dreaded': 1, 'dreaded impe': 1, 'impe of': 1, 'of highest': 1, 'highest jove': 1, 'jove faire': 1, 'faire venus': 1, 'venus sonne': 1, 'sonne that': 1, 'that with': 1, 'with thy': 2, 'thy cruell': 1, 'cruell dart': 1, 'dart at': 1, 'at that': 1, 'that good': 1, 'good knight': 1, 'knight so': 1, 'so cunningly': 1, 'cunningly didst': 1, 'didst rove': 1, 'rove that': 1, 'that glorious': 1, 'glorious fire': 1, 'fire it': 1, 'it kindled': 1, 'kindled in': 1, 'in his': 1, 'his hart': 1, 'hart lay': 1, 'lay now': 1, 'now thy': 1, 'thy deadly': 1, 'deadly heben': 1, 'heben bow': 1, 'bow apart': 1, 'apart and': 1, 'and with': 3, 'thy mother': 1, 'mother milde': 1, 'milde come': 1, 'come to': 1, 'to mine': 1, 'mine ayde': 1, 'ayde come': 1, 'come both': 1, 'both and': 1, 'with you': 1, 'you bring': 1, 'bring triumphant': 1, 'triumphant mart': 1, 'mart in': 1, 'in loves': 1, 'loves and': 1, 'and gentle': 1, 'gentle jollities': 1, 'jollities arrayd': 1, 'arrayd after': 1, 'after his': 1, 'his murdrous': 1, 'murdrous spoiles': 1, 'spoiles and': 1, 'and bloudy': 1, 'bloudy rage': 1, 'rage allayd': 1, 'allayd and': 1, 'with them': 1, 'them eke': 1, 'eke o': 1, 'o goddesse': 1, 'goddesse heavenly': 1, 'heavenly bright': 1, 'bright mirrour': 1, 'mirrour of': 1, 'of grace': 1, 'grace and': 1, 'and majestie': 1, 'majestie divine': 1, 'divine great': 1, 'great lady': 1, 'lady of': 1, 'of the': 21, 'the greatest': 1, 'greatest isle': 1, 'isle whose': 1, 'whose light': 1, 'light like': 1, 'like phoebus': 1, 'phoebus lampe': 1, 'lampe throughout': 1, 'throughout the': 1, 'world doth': 1, 'doth shine': 1, 'shine shed': 1, 'shed thy': 1, 'thy faire': 1, 'faire beames': 1, 'beames into': 1, 'my feeble': 1, 'feeble eyne': 1, 'eyne and': 1, 'and raise': 1, 'raise my': 1, 'thoughts too': 1, 'too humble': 1, 'humble and': 1, 'and too': 1, 'too vile': 1, 'vile to': 1, 'to thinke': 1, 'thinke of': 1, 'of that': 1, 'that true': 1, 'true glorious': 1, 'glorious type': 1, 'type of': 1, 'thine the': 1, 'the argument': 1, 'argument of': 1, 'of mine': 1, 'mine afflicted': 1, 'afflicted stile': 1, 'stile the': 1, 'the which': 1, 'which to': 1, 'to heare': 1, 'heare vouchsafe': 1, 'vouchsafe o': 1, 'o dearest': 1, 'dearest dred': 1, 'dred a': 1, 'a while': 2, 'while hiawatha': 1, 'hiawatha to': 1, 'to me': 1, 'me especially': 1, 'especially \"': 1, '\" wah': 1, 'wah wah': 1, 'wah taysee': 1, 'taysee little': 1, 'little fire': 1, 'fire fly': 1, 'fly little': 1, 'little flitting': 1, 'flitting white': 1, 'white fire': 2, 'fire insect': 1, 'insect little': 1, 'little dancing': 1, 'dancing white': 1, 'fire creature': 1, 'creature light': 1, 'light me': 1, 'me with': 1, 'with your': 1, 'your little': 1, 'little candle': 1, 'candle ere': 1, 'ere upon': 1, 'upon my': 1, 'my bed': 1, 'bed i': 1, 'i lay': 1, 'lay me': 1, 'me ere': 1, 'ere in': 1, 'in sleep': 1, 'sleep i': 1, 'i close': 1, 'close my': 1, 'my eyelids': 1, 'eyelids \"': 1, '\" should': 2, 'should you': 2, 'you ask': 2, 'ask me': 2, 'me whence': 1, 'whence these': 2, 'these stories': 1, 'stories whence': 1, 'these legends': 2, 'legends and': 2, 'and traditions': 2, 'traditions with': 1, 'with the': 5, 'the odors': 1, 'odors of': 1, 'the forest': 5, 'forest with': 1, 'the dew': 1, 'dew and': 1, 'and damp': 1, 'damp of': 1, 'of meadows': 1, 'meadows with': 1, 'the curling': 1, 'curling smoke': 1, 'smoke of': 1, 'of wigwams': 1, 'wigwams with': 1, 'the rushing': 3, 'rushing of': 2, 'of great': 2, 'great rivers': 2, 'rivers with': 1, 'with their': 1, 'their frequent': 1, 'frequent repetitions': 1, 'repetitions and': 1, 'and their': 1, 'their wild': 1, 'wild reverberations': 1, 'reverberations as': 1, 'as of': 1, 'of thunder': 1, 'thunder in': 2, 'in the': 17, 'the mountains': 4, 'mountains i': 1, 'should answer': 3, 'answer i': 2, 'should tell': 2, 'tell you': 2, 'you \"': 2, '\" from': 2, 'from the': 11, 'the forests': 1, 'forests and': 1, 'and the': 12, 'the prairies': 2, 'prairies from': 1, 'the great': 3, 'great lakes': 1, 'lakes of': 1, 'the northland': 1, 'northland from': 1, 'the land': 2, 'land of': 2, 'the ojibways': 1, 'ojibways from': 1, 'the dacotahs': 1, 'dacotahs from': 1, 'mountains moors': 1, 'moors and': 1, 'and fen': 1, 'fen lands': 2, 'lands where': 1, 'where the': 2, 'the heron': 1, 'heron the': 2, 'the shuh': 2, 'shuh shuh': 2, 'shuh gah': 2, 'gah feeds': 1, 'feeds among': 1, 'among the': 2, 'the reeds': 1, 'and rushes': 1, 'rushes i': 1, 'i repeat': 1, 'repeat them': 1, 'them as': 1, 'as i': 1, 'i heard': 1, 'heard them': 1, 'them from': 1, 'the lips': 1, 'lips of': 1, 'of nawadaha': 1, 'nawadaha the': 1, 'the musician': 1, 'musician the': 1, 'the sweet': 1, 'sweet singer': 1, 'singer \"': 1, 'ask where': 1, 'where nawadaha': 1, 'nawadaha found': 1, 'found these': 2, 'these songs': 1, 'songs so': 1, 'so wild': 1, 'wild and': 1, 'and wayward': 1, 'wayward found': 1, 'traditions i': 1, '\" in': 2, \"the bird's\": 1, \"bird's nests\": 1, 'nests of': 1, 'forest in': 1, 'the lodges': 1, 'lodges of': 1, 'the beaver': 1, 'beaver in': 1, 'the hoofprint': 1, 'hoofprint of': 1, 'the bison': 1, 'bison in': 1, 'the eyry': 1, 'eyry of': 1, 'the eagle': 1, 'eagle \"': 1, '\" all': 1, 'all the': 4, 'the wild': 2, 'wild fowl': 1, 'fowl sang': 1, 'sang them': 2, 'them to': 1, 'to him': 1, 'him in': 1, 'the moorlands': 1, 'moorlands and': 1, 'the fen': 1, 'lands in': 1, 'the melancholy': 1, 'melancholy marshes': 1, 'marshes chetowaik': 1, 'chetowaik the': 1, 'the plover': 1, 'plover sang': 1, 'them mahng': 1, 'mahng the': 1, 'the loon': 1, 'loon the': 1, 'wild goose': 1, 'goose wawa': 1, 'wawa the': 1, 'the blue': 1, 'blue heron': 1, 'gah and': 1, 'the grouse': 1, 'grouse the': 1, 'the mushkodasa': 1, 'mushkodasa \"': 1, '\" if': 1, 'if still': 1, 'still further': 1, 'further you': 1, 'you should': 1, 'should ask': 1, 'me tell': 1, 'tell us': 1, 'us of': 1, 'of this': 1, 'this nawadaha': 1, 'nawadaha \"': 1, '\" i': 1, 'answer your': 1, 'your inquiries': 1, 'inquiries straightway': 1, 'straightway in': 1, 'in such': 1, 'such words': 1, 'words as': 1, 'as follow': 1, 'follow \"': 1, 'the vale': 2, 'vale of': 2, 'of tawasentha': 2, 'tawasentha in': 2, 'the green': 3, 'green and': 2, 'and silent': 2, 'silent valley': 2, 'valley by': 2, 'by the': 7, 'the pleasant': 2, 'pleasant water': 2, 'water courses': 2, 'courses dwelt': 1, 'dwelt the': 2, 'the singer': 2, 'singer nawadaha': 1, 'nawadaha round': 1, 'round about': 1, 'about the': 1, 'the indian': 1, 'indian village': 1, 'village spread': 1, 'spread the': 1, 'the meadows': 1, 'meadows and': 1, 'the corn': 1, 'corn fields': 1, 'fields and': 1, 'and beyond': 1, 'beyond them': 1, 'them stood': 1, 'stood the': 2, 'forest stood': 1, 'the groves': 2, 'groves of': 2, 'of singing': 1, 'singing pine': 1, 'pine trees': 2, 'trees green': 1, 'green in': 1, 'in summer': 1, 'summer white': 1, 'white in': 1, 'in winter': 1, 'winter ever': 1, 'ever sighing': 1, 'sighing ever': 1, 'ever singing': 1, 'singing \"': 1, '\" and': 1, 'courses you': 1, 'you could': 1, 'could trace': 1, 'trace them': 1, 'them through': 1, 'the valley': 1, 'rushing in': 1, 'the spring': 1, 'spring time': 1, 'time by': 1, 'the alders': 1, 'alders in': 1, 'the summer': 1, 'summer by': 1, 'the white': 1, 'white fog': 1, 'fog in': 1, 'the autumn': 1, 'autumn by': 1, 'the black': 1, 'black line': 1, 'line in': 1, 'the winter': 1, 'winter and': 1, 'and beside': 1, 'beside them': 1, 'them dwelt': 1, 'singer in': 1, 'valley \"': 1, '\" there': 1, 'there he': 1, 'he sang': 1, 'sang of': 1, 'of hiawatha': 5, 'hiawatha sang': 1, 'sang his': 1, 'his wondrous': 1, 'wondrous birth': 1, 'birth and': 1, 'and being': 1, 'being how': 1, 'how he': 2, 'he prayed': 1, 'and how': 1, 'how be': 1, 'be fasted': 1, 'fasted how': 1, 'he lived': 1, 'lived and': 1, 'and toiled': 1, 'toiled and': 1, 'suffered that': 1, 'that the': 2, 'the tribes': 4, 'tribes of': 3, 'of men': 3, 'men might': 1, 'might prosper': 1, 'prosper that': 1, 'that he': 1, 'he might': 1, 'might advance': 1, 'advance his': 1, 'his people': 1, 'people \"': 1, '\" ye': 1, 'ye who': 3, 'who love': 2, 'love the': 5, 'the haunts': 1, 'haunts of': 1, 'of nature': 1, 'nature love': 1, 'the sunshine': 1, 'sunshine of': 1, 'the meadow': 3, 'meadow love': 1, 'the shadow': 1, 'shadow of': 1, 'forest love': 1, 'the wind': 1, 'wind among': 1, 'the branches': 1, 'branches and': 1, 'the rain': 1, 'rain shower': 1, 'shower and': 1, 'the snow': 1, 'snow storm': 1, 'storm and': 1, 'rivers through': 1, 'through their': 1, 'their palisades': 1, 'palisades of': 1, 'of pine': 1, 'trees and': 1, 'the thunder': 1, 'mountains whose': 1, 'whose innumerable': 1, 'innumerable echoes': 1, 'echoes flap': 1, 'flap like': 1, 'like eagles': 1, 'eagles in': 1, 'in their': 1, 'their eyries;--': 1, 'eyries;-- listen': 1, 'listen to': 3, 'to these': 1, 'these wild': 1, 'wild traditions': 1, 'traditions to': 1, 'this song': 4, 'song of': 4, 'hiawatha ye': 3, 'love a': 1, 'a nation': 1, \"nation 's\": 1, \"'s legends\": 1, 'legends love': 1, 'the ballads': 1, 'ballads of': 1, 'of a': 1, 'a people': 1, 'people that': 1, 'that like': 1, 'like voices': 1, 'voices from': 1, 'from afar': 1, 'afar off': 1, 'off call': 1, 'call to': 1, 'to us': 1, 'us to': 1, 'to pause': 1, 'pause and': 1, 'and listen': 1, 'listen speak': 1, 'speak in': 1, 'in tones': 1, 'tones so': 1, 'so plain': 1, 'plain and': 1, 'and childlike': 1, 'childlike scarcely': 1, 'scarcely can': 1, 'can the': 1, 'the ear': 1, 'ear distinguish': 1, 'distinguish whether': 1, 'whether they': 1, 'they are': 1, 'are sung': 1, 'sung or': 1, 'or spoken;--': 1, 'spoken;-- listen': 1, 'this indian': 1, 'indian legend': 1, 'legend to': 1, 'ye whose': 1, 'whose hearts': 1, 'hearts are': 1, 'are fresh': 1, 'fresh and': 1, 'and simple': 1, 'simple who': 1, 'who have': 1, 'have faith': 1, 'faith in': 1, 'in god': 1, 'god and': 1, 'and nature': 1, 'nature who': 1, 'who believe': 1, 'believe that': 1, 'that in': 2, 'in all': 1, 'all ages': 1, 'ages every': 1, 'every human': 1, 'human heart': 1, 'heart is': 1, 'is human': 1, 'human that': 1, 'in even': 1, 'even savage': 1, 'savage bosoms': 1, 'bosoms there': 1, 'there are': 1, 'are longings': 1, 'longings yearnings': 1, 'yearnings strivings': 1, 'strivings for': 1, 'for the': 1, 'the good': 1, 'good they': 1, 'they comprehend': 1, 'comprehend not': 1, 'not that': 1, 'the feeble': 1, 'feeble hands': 1, 'hands and': 1, 'and helpless': 1, 'helpless groping': 1, 'groping blindly': 1, 'blindly in': 1, 'the darkness': 1, 'darkness touch': 1, 'touch god': 1, \"god 's\": 1, \"'s right\": 1, 'right hand': 1, 'hand in': 1, 'in that': 1, 'that darkness': 1, 'darkness and': 1, 'and are': 1, 'are lifted': 1, 'lifted up': 1, 'up and': 1, 'and strengthened;--': 1, 'strengthened;-- listen': 1, 'this simple': 1, 'simple story': 1, 'story to': 1, 'who sometimes': 1, 'sometimes in': 1, 'in your': 1, 'your rambles': 1, 'rambles through': 1, 'green lanes': 1, 'lanes of': 1, 'the country': 1, 'country where': 1, 'the tangled': 1, 'tangled barberry': 1, 'barberry bushes': 1, 'bushes hang': 1, 'hang their': 1, 'their tufts': 1, 'tufts of': 1, 'of crimson': 1, 'crimson berries': 1, 'berries over': 1, 'over stone': 1, 'stone walls': 1, 'walls gray': 1, 'gray with': 1, 'with mosses': 1, 'mosses pause': 1, 'pause by': 1, 'by some': 1, 'some neglected': 1, 'neglected graveyard': 1, 'graveyard for': 1, 'for a': 2, 'while to': 1, 'to muse': 1, 'muse and': 1, 'and ponder': 1, 'ponder on': 1, 'on a': 1, 'a half': 1, 'half effaced': 1, 'effaced inscription': 1, 'inscription written': 1, 'written with': 1, 'with little': 1, 'little skill': 1, 'skill of': 1, 'of song': 1, 'song craft': 1, 'craft homely': 1, 'homely phrases': 1, 'phrases but': 1, 'but each': 1, 'each letter': 1, 'letter full': 1, 'full of': 2, 'of hope': 1, 'hope and': 1, 'and yet': 1, 'yet of': 1, 'of heart': 1, 'heart break': 1, 'break full': 1, 'of all': 1, 'the tender': 1, 'tender pathos': 1, 'pathos stay': 1, 'stay and': 1, 'and read': 1, 'read this': 2, 'this rude': 1, 'rude inscription': 1, 'inscription read': 1, 'hiawatha on': 1, 'on the': 4, 'great red': 2, 'red pipe': 2, 'pipe stone': 2, 'stone quarry': 2, 'quarry gitche': 1, 'gitche manito': 3, 'manito the': 3, 'the mighty': 3, 'mighty he': 1, 'he the': 1, 'the master': 1, 'master of': 1, 'of life': 1, 'life descending': 1, 'descending on': 1, 'the red': 3, 'red crags': 1, 'crags of': 1, 'the quarry': 2, 'quarry stood': 1, 'stood erect': 1, 'erect and': 1, 'and called': 1, 'called the': 2, 'the nations': 4, 'nations called': 1, 'men together': 2, 'together from': 1, 'from his': 1, 'his footprints': 1, 'footprints flowed': 1, 'flowed a': 1, 'a river': 1, 'river leaped': 1, 'leaped into': 1, 'into the': 1, 'the light': 1, 'light of': 1, 'of morning': 2, \"morning o'er\": 1, \"o'er the\": 2, 'the precipice': 1, 'precipice plunging': 1, 'plunging downward': 1, 'downward gleamed': 1, 'gleamed like': 1, 'like ishkoodah': 1, 'ishkoodah the': 1, 'the comet': 1, 'comet and': 1, 'the spirit': 1, 'spirit stooping': 1, 'stooping earthward': 1, 'earthward with': 1, 'with his': 2, 'his finger': 1, 'finger on': 1, 'meadow traced': 1, 'traced a': 1, 'a winding': 1, 'winding pathway': 1, 'pathway for': 1, 'for it': 1, 'it saying': 1, 'saying to': 1, 'to it': 1, 'it \"': 1, '\" run': 1, 'run in': 1, 'in this': 1, 'this way': 1, 'way \"': 1, 'red stone': 1, 'stone of': 1, 'quarry with': 1, 'his hand': 1, 'hand he': 1, 'he broke': 1, 'broke a': 1, 'a fragment': 1, 'fragment moulded': 1, 'moulded it': 1, 'it into': 1, 'into a': 1, 'a pipe': 2, 'pipe head': 1, 'head shaped': 1, 'shaped and': 1, 'and fashioned': 1, 'fashioned it': 1, 'it with': 1, 'with figures': 1, 'figures from': 1, 'the margin': 1, 'margin of': 1, 'the river': 1, 'river took': 1, 'took a': 1, 'a long': 1, 'long reed': 1, 'reed for': 1, 'pipe stem': 1, 'stem with': 1, 'with its': 1, 'its dark': 1, 'dark green': 1, 'green leaves': 1, 'leaves upon': 1, 'upon it': 1, 'it filled': 1, 'filled the': 1, 'the pipe': 1, 'pipe with': 1, 'with bark': 1, 'bark of': 2, 'of willow': 2, 'willow with': 1, 'the bark': 1, 'red willow': 1, 'willow breathed': 1, 'breathed upon': 1, 'the neighboring': 1, 'neighboring forest': 1, 'forest made': 1, 'made its': 1, 'its great': 1, 'great boughs': 1, 'boughs chafe': 1, 'chafe together': 1, 'together till': 1, 'till in': 1, 'in flame': 1, 'flame they': 1, 'they burst': 1, 'burst and': 1, 'and kindled': 1, 'kindled and': 1, 'and erect': 1, 'erect upon': 1, 'mountains gitche': 1, 'mighty smoked': 1, 'smoked the': 1, 'the calumet': 1, 'calumet the': 1, 'the peace': 3, 'peace pipe': 3, 'pipe as': 1, 'as a': 1, 'a signal': 1, 'signal to': 1, 'to the': 2, 'nations and': 1, 'the smoke': 1, 'smoke rose': 1, 'rose slowly': 1, 'slowly slowly': 1, 'slowly through': 1, 'the tranquil': 1, 'tranquil air': 1, 'air of': 1, 'morning first': 1, 'first a': 1, 'a single': 1, 'single line': 1, 'line of': 1, 'of darkness': 1, 'darkness then': 1, 'then a': 2, 'a denser': 1, 'denser bluer': 1, 'bluer vapor': 1, 'vapor then': 1, 'a snow': 1, 'snow white': 1, 'white cloud': 1, 'cloud unfolding': 1, 'unfolding like': 1, 'like the': 1, 'the tree': 1, 'tree tops': 1, 'tops of': 1, 'forest ever': 1, 'ever rising': 1, 'rising rising': 2, 'rising till': 1, 'till it': 2, 'it touched': 1, 'touched the': 1, 'the top': 1, 'top of': 1, 'of heaven': 1, 'heaven till': 1, 'it broke': 1, 'broke against': 1, 'against the': 1, 'the heaven': 1, 'heaven and': 1, 'and rolled': 1, 'rolled outward': 1, 'outward all': 1, 'all around': 1, 'around it': 1, 'it from': 1, 'of tuscaloosa': 1, 'tuscaloosa from': 1, 'the far': 1, 'far off': 1, 'off rocky': 1, 'rocky mountains': 1, 'mountains from': 1, 'the northern': 1, 'northern lakes': 1, 'lakes and': 1, 'and rivers': 1, 'rivers all': 1, 'tribes beheld': 1, 'beheld the': 1, 'the signal': 3, 'signal saw': 1, 'saw the': 1, 'the distant': 1, 'distant smoke': 1, 'smoke ascending': 1, 'ascending and': 1, 'the prophets': 1, 'prophets of': 1, 'nations by': 1, 'signal of': 2, 'pipe bending': 1, 'bending like': 1, 'like a': 2, 'a wand': 1, 'wand of': 1, 'willow waving': 1, 'waving like': 1, 'a hand': 1, 'hand that': 1, 'that beckons': 1, 'beckons gitche': 1, 'mighty calls': 1, 'calls the': 2, 'together calls': 1, 'the warriors': 3, 'warriors to': 1, 'to his': 1, 'his council': 1, 'council \"': 1, '\" down': 1, 'down the': 1, 'the rivers': 1, \"rivers o'er\": 1, 'prairies came': 1, 'came the': 1, 'warriors of': 1, 'nations all': 1, 'warriors drawn': 1, 'drawn together': 1, 'together by': 1, 'pipe to': 1, 'quarry and': 1, 'and they': 1, 'they stood': 1, 'stood there': 1, 'there on': 1}\n",
      "1464\n",
      "\n",
      "Trigram Frequency\n",
      "\n",
      "{'to this urn': 1, 'this urn let': 1, 'urn let those': 1, 'let those repair': 1, 'those repair that': 1, 'repair that are': 1, 'that are either': 1, 'are either true': 1, 'either true or': 1, 'true or fair': 1, 'or fair for': 1, 'fair for these': 1, 'for these dead': 1, 'these dead birds': 1, 'dead birds sigh': 1, 'birds sigh a': 1, 'sigh a prayer': 1, 'a prayer sir': 1, 'prayer sir charles': 1, 'sir charles into': 1, 'charles into my': 1, 'into my chamber': 1, 'my chamber coming': 1, 'chamber coming in': 1, 'coming in when': 1, 'in when i': 1, 'when i was': 1, 'i was writing': 1, 'was writing of': 1, 'writing of my': 1, 'of my fairy': 1, 'my fairy queen': 1, 'fairy queen i': 1, 'queen i praysaid': 1, 'i praysaid hewhen': 1, 'praysaid hewhen queen': 1, 'hewhen queen mab': 1, 'queen mab you': 1, 'mab you do': 1, 'you do see': 1, 'do see present': 1, 'see present my': 1, 'present my service': 1, 'my service to': 1, 'service to her': 1, 'to her majesty': 1, 'her majesty and': 1, 'majesty and tell': 1, 'and tell her': 1, 'tell her i': 1, 'her i have': 1, 'i have heard': 1, 'have heard fames': 1, 'heard fames loud': 1, 'fames loud report': 1, 'loud report both': 1, 'report both of': 1, 'both of her': 1, 'of her beauty': 1, 'her beauty and': 1, 'beauty and her': 1, 'and her stately': 1, 'her stately court': 1, 'stately court when': 1, 'court when i': 1, 'when i queen': 1, 'i queen mab': 1, 'queen mab within': 1, 'mab within my': 1, 'within my fancy': 1, 'my fancy viewed': 1, 'fancy viewed my': 1, 'viewed my thoughts': 1, 'my thoughts bowed': 1, 'thoughts bowed low': 1, 'bowed low fearing': 1, 'low fearing i': 1, 'fearing i should': 1, 'i should be': 1, 'should be rude': 1, 'be rude kissing': 1, 'rude kissing her': 1, 'kissing her garment': 1, 'her garment thin': 1, 'garment thin which': 1, 'thin which fancy': 1, 'which fancy made': 1, 'fancy made i': 1, 'made i knelt': 1, 'i knelt upon': 1, 'knelt upon a': 1, 'upon a thought': 1, 'a thought like': 1, 'thought like one': 1, 'like one that': 1, 'one that prayed': 1, 'that prayed and': 1, 'prayed and then': 1, 'and then in': 1, 'then in whispers': 1, 'in whispers soft': 1, 'whispers soft i': 1, 'soft i did': 1, 'i did present': 1, 'did present his': 1, 'present his humble': 1, 'his humble service': 1, 'humble service which': 1, 'service which in': 1, 'which in mirth': 1, 'in mirth was': 1, 'mirth was sent': 1, 'was sent thus': 1, 'sent thus by': 1, 'thus by imagination': 1, 'by imagination i': 1, 'imagination i have': 1, 'i have been': 1, 'have been in': 1, 'been in fairy': 1, 'in fairy court': 1, 'fairy court and': 1, 'court and seen': 1, 'and seen the': 1, 'seen the fairy': 1, 'the fairy queen': 1, 'fairy queen our': 1, 'queen our vice': 1, 'our vice runs': 1, 'vice runs beyond': 1, 'runs beyond all': 1, 'beyond all that': 1, 'all that old': 1, 'that old men': 1, 'old men saw': 1, 'men saw and': 1, 'saw and far': 1, 'and far authentically': 1, 'far authentically above': 1, 'authentically above our': 1, 'above our laws': 1, 'our laws and': 1, 'laws and scorning': 1, 'and scorning virtues': 1, 'scorning virtues safe': 1, 'virtues safe and': 1, 'safe and golden': 1, 'and golden mean': 1, 'golden mean sits': 1, 'mean sits uncontrolled': 1, 'sits uncontrolled upon': 1, 'uncontrolled upon the': 1, 'upon the high': 1, 'the high extreme': 1, 'high extreme circes': 1, 'extreme circes thy': 1, 'circes thy monsters': 1, 'thy monsters painted': 1, 'monsters painted out': 1, 'painted out the': 1, 'out the hue': 1, 'the hue of': 1, 'hue of feigned': 1, 'of feigned filthiness': 1, 'feigned filthiness but': 1, 'filthiness but ours': 1, 'but ours is': 1, 'ours is true': 1, 'is true our': 1, 'true our vice': 1, 'our vice puts': 1, 'vice puts down': 1, 'puts down all': 1, 'down all proverbs': 1, 'all proverbs and': 1, 'proverbs and all': 1, 'and all themes': 1, 'all themes our': 1, 'themes our vice': 1, 'our vice excels': 1, 'vice excels all': 1, 'excels all fables': 1, 'all fables and': 1, 'fables and all': 1, 'and all dreams': 1, 'all dreams lo': 1, 'dreams lo i': 1, 'lo i the': 1, 'i the man': 1, 'the man whose': 1, 'man whose muse': 1, 'whose muse whilome': 1, 'muse whilome did': 1, 'whilome did maske': 1, 'did maske as': 1, 'maske as time': 1, 'as time her': 1, 'time her taught': 1, 'her taught in': 1, 'taught in lowly': 1, 'in lowly shepheards': 1, 'lowly shepheards weeds': 1, 'shepheards weeds am': 1, 'weeds am now': 1, 'am now enforst': 1, 'now enforst a': 1, 'enforst a far': 1, 'a far unfitter': 1, 'far unfitter taske': 1, 'unfitter taske for': 1, 'taske for trumpets': 1, 'for trumpets sterne': 1, 'trumpets sterne to': 1, 'sterne to chaunge': 1, 'to chaunge mine': 1, 'chaunge mine oaten': 1, 'mine oaten reeds': 1, 'oaten reeds and': 1, 'reeds and sing': 1, 'and sing of': 1, 'sing of knights': 1, 'of knights and': 1, 'knights and ladies': 1, 'and ladies gentle': 1, 'ladies gentle deeds': 1, 'gentle deeds whose': 1, 'deeds whose prayses': 1, 'whose prayses having': 1, 'prayses having slept': 1, 'having slept in': 1, 'slept in silence': 1, 'in silence long': 1, 'silence long me': 1, 'long me all': 1, 'me all too': 1, 'all too meane': 1, 'too meane the': 1, 'meane the sacred': 1, 'the sacred muse': 1, 'sacred muse areeds': 1, 'muse areeds to': 1, 'areeds to blazon': 1, 'to blazon broad': 1, 'blazon broad emongst': 1, 'broad emongst her': 1, 'emongst her learned': 1, 'her learned throng': 1, 'learned throng fierce': 1, 'throng fierce warres': 1, 'fierce warres and': 1, 'warres and faithful': 1, 'and faithful loves': 1, 'faithful loves shall': 1, 'loves shall moralize': 1, 'shall moralize my': 1, 'moralize my song': 1, 'my song helpe': 1, 'song helpe then': 1, 'helpe then o': 1, 'then o holy': 1, 'o holy virgin': 1, 'holy virgin chiefe': 1, 'virgin chiefe of': 1, 'chiefe of nine': 1, 'of nine thy': 1, 'nine thy weaker': 1, 'thy weaker novice': 1, 'weaker novice to': 1, 'novice to performe': 1, 'to performe thy': 1, 'performe thy will': 1, 'thy will lay': 1, 'will lay forth': 1, 'lay forth out': 1, 'forth out of': 1, 'out of thine': 1, 'of thine everlasting': 1, 'thine everlasting scryne': 1, 'everlasting scryne the': 1, 'scryne the antique': 1, 'the antique rolles': 1, 'antique rolles which': 1, 'rolles which there': 1, 'which there lye': 1, 'there lye hidden': 1, 'lye hidden still': 1, 'hidden still of': 1, 'still of faerie': 1, 'of faerie knights': 1, 'faerie knights and': 1, 'knights and fairest': 1, 'and fairest tanaquill': 1, 'fairest tanaquill whom': 1, 'tanaquill whom that': 1, 'whom that most': 1, 'that most noble': 1, 'most noble briton': 1, 'noble briton prince': 1, 'briton prince so': 1, 'prince so long': 1, 'so long sought': 1, 'long sought through': 1, 'sought through the': 1, 'through the world': 1, 'the world and': 1, 'world and suffered': 1, 'and suffered so': 1, 'suffered so much': 1, 'so much ill': 1, 'much ill that': 1, 'ill that i': 1, 'that i must': 1, 'i must rue': 1, 'must rue his': 1, 'rue his undeserved': 1, 'his undeserved wrong': 1, 'undeserved wrong o': 1, 'wrong o helpe': 1, 'o helpe thou': 1, 'helpe thou my': 1, 'thou my weake': 1, 'my weake wit': 1, 'weake wit and': 1, 'wit and sharpen': 1, 'and sharpen my': 1, 'sharpen my dull': 1, 'my dull tong': 1, 'dull tong and': 1, 'tong and thou': 1, 'and thou most': 1, 'thou most dreaded': 1, 'most dreaded impe': 1, 'dreaded impe of': 1, 'impe of highest': 1, 'of highest jove': 1, 'highest jove faire': 1, 'jove faire venus': 1, 'faire venus sonne': 1, 'venus sonne that': 1, 'sonne that with': 1, 'that with thy': 1, 'with thy cruell': 1, 'thy cruell dart': 1, 'cruell dart at': 1, 'dart at that': 1, 'at that good': 1, 'that good knight': 1, 'good knight so': 1, 'knight so cunningly': 1, 'so cunningly didst': 1, 'cunningly didst rove': 1, 'didst rove that': 1, 'rove that glorious': 1, 'that glorious fire': 1, 'glorious fire it': 1, 'fire it kindled': 1, 'it kindled in': 1, 'kindled in his': 1, 'in his hart': 1, 'his hart lay': 1, 'hart lay now': 1, 'lay now thy': 1, 'now thy deadly': 1, 'thy deadly heben': 1, 'deadly heben bow': 1, 'heben bow apart': 1, 'bow apart and': 1, 'apart and with': 1, 'and with thy': 1, 'with thy mother': 1, 'thy mother milde': 1, 'mother milde come': 1, 'milde come to': 1, 'come to mine': 1, 'to mine ayde': 1, 'mine ayde come': 1, 'ayde come both': 1, 'come both and': 1, 'both and with': 1, 'and with you': 1, 'with you bring': 1, 'you bring triumphant': 1, 'bring triumphant mart': 1, 'triumphant mart in': 1, 'mart in loves': 1, 'in loves and': 1, 'loves and gentle': 1, 'and gentle jollities': 1, 'gentle jollities arrayd': 1, 'jollities arrayd after': 1, 'arrayd after his': 1, 'after his murdrous': 1, 'his murdrous spoiles': 1, 'murdrous spoiles and': 1, 'spoiles and bloudy': 1, 'and bloudy rage': 1, 'bloudy rage allayd': 1, 'rage allayd and': 1, 'allayd and with': 1, 'and with them': 1, 'with them eke': 1, 'them eke o': 1, 'eke o goddesse': 1, 'o goddesse heavenly': 1, 'goddesse heavenly bright': 1, 'heavenly bright mirrour': 1, 'bright mirrour of': 1, 'mirrour of grace': 1, 'of grace and': 1, 'grace and majestie': 1, 'and majestie divine': 1, 'majestie divine great': 1, 'divine great lady': 1, 'great lady of': 1, 'lady of the': 1, 'of the greatest': 1, 'the greatest isle': 1, 'greatest isle whose': 1, 'isle whose light': 1, 'whose light like': 1, 'light like phoebus': 1, 'like phoebus lampe': 1, 'phoebus lampe throughout': 1, 'lampe throughout the': 1, 'throughout the world': 1, 'the world doth': 1, 'world doth shine': 1, 'doth shine shed': 1, 'shine shed thy': 1, 'shed thy faire': 1, 'thy faire beames': 1, 'faire beames into': 1, 'beames into my': 1, 'into my feeble': 1, 'my feeble eyne': 1, 'feeble eyne and': 1, 'eyne and raise': 1, 'and raise my': 1, 'raise my thoughts': 1, 'my thoughts too': 1, 'thoughts too humble': 1, 'too humble and': 1, 'humble and too': 1, 'and too vile': 1, 'too vile to': 1, 'vile to thinke': 1, 'to thinke of': 1, 'thinke of that': 1, 'of that true': 1, 'that true glorious': 1, 'true glorious type': 1, 'glorious type of': 1, 'type of thine': 1, 'of thine the': 1, 'thine the argument': 1, 'the argument of': 1, 'argument of mine': 1, 'of mine afflicted': 1, 'mine afflicted stile': 1, 'afflicted stile the': 1, 'stile the which': 1, 'the which to': 1, 'which to heare': 1, 'to heare vouchsafe': 1, 'heare vouchsafe o': 1, 'vouchsafe o dearest': 1, 'o dearest dred': 1, 'dearest dred a': 1, 'dred a while': 1, 'a while hiawatha': 1, 'while hiawatha to': 1, 'hiawatha to me': 1, 'to me especially': 1, 'me especially \"': 1, 'especially \" wah': 1, '\" wah wah': 1, 'wah wah taysee': 1, 'wah taysee little': 1, 'taysee little fire': 1, 'little fire fly': 1, 'fire fly little': 1, 'fly little flitting': 1, 'little flitting white': 1, 'flitting white fire': 1, 'white fire insect': 1, 'fire insect little': 1, 'insect little dancing': 1, 'little dancing white': 1, 'dancing white fire': 1, 'white fire creature': 1, 'fire creature light': 1, 'creature light me': 1, 'light me with': 1, 'me with your': 1, 'with your little': 1, 'your little candle': 1, 'little candle ere': 1, 'candle ere upon': 1, 'ere upon my': 1, 'upon my bed': 1, 'my bed i': 1, 'bed i lay': 1, 'i lay me': 1, 'lay me ere': 1, 'me ere in': 1, 'ere in sleep': 1, 'in sleep i': 1, 'sleep i close': 1, 'i close my': 1, 'close my eyelids': 1, 'my eyelids \"': 1, 'eyelids \" should': 1, '\" should you': 2, 'should you ask': 2, 'you ask me': 1, 'ask me whence': 1, 'me whence these': 1, 'whence these stories': 1, 'these stories whence': 1, 'stories whence these': 1, 'whence these legends': 1, 'these legends and': 2, 'legends and traditions': 2, 'and traditions with': 1, 'traditions with the': 1, 'with the odors': 1, 'the odors of': 1, 'odors of the': 1, 'of the forest': 4, 'the forest with': 1, 'forest with the': 1, 'with the dew': 1, 'the dew and': 1, 'dew and damp': 1, 'and damp of': 1, 'damp of meadows': 1, 'of meadows with': 1, 'meadows with the': 1, 'with the curling': 1, 'the curling smoke': 1, 'curling smoke of': 1, 'smoke of wigwams': 1, 'of wigwams with': 1, 'wigwams with the': 1, 'with the rushing': 1, 'the rushing of': 2, 'rushing of great': 2, 'of great rivers': 2, 'great rivers with': 1, 'rivers with their': 1, 'with their frequent': 1, 'their frequent repetitions': 1, 'frequent repetitions and': 1, 'repetitions and their': 1, 'and their wild': 1, 'their wild reverberations': 1, 'wild reverberations as': 1, 'reverberations as of': 1, 'as of thunder': 1, 'of thunder in': 1, 'thunder in the': 2, 'in the mountains': 2, 'the mountains i': 1, 'mountains i should': 1, 'i should answer': 3, 'should answer i': 2, 'answer i should': 2, 'i should tell': 2, 'should tell you': 2, 'tell you \"': 2, 'you \" from': 1, '\" from the': 2, 'from the forests': 1, 'the forests and': 1, 'forests and the': 1, 'and the prairies': 1, 'the prairies from': 1, 'prairies from the': 1, 'from the great': 1, 'the great lakes': 1, 'great lakes of': 1, 'lakes of the': 1, 'of the northland': 1, 'the northland from': 1, 'northland from the': 1, 'from the land': 2, 'the land of': 2, 'land of the': 2, 'of the ojibways': 1, 'the ojibways from': 1, 'ojibways from the': 1, 'of the dacotahs': 1, 'the dacotahs from': 1, 'dacotahs from the': 1, 'from the mountains': 1, 'the mountains moors': 1, 'mountains moors and': 1, 'moors and fen': 1, 'and fen lands': 1, 'fen lands where': 1, 'lands where the': 1, 'where the heron': 1, 'the heron the': 1, 'heron the shuh': 2, 'the shuh shuh': 2, 'shuh shuh gah': 2, 'shuh gah feeds': 1, 'gah feeds among': 1, 'feeds among the': 1, 'among the reeds': 1, 'the reeds and': 1, 'reeds and rushes': 1, 'and rushes i': 1, 'rushes i repeat': 1, 'i repeat them': 1, 'repeat them as': 1, 'them as i': 1, 'as i heard': 1, 'i heard them': 1, 'heard them from': 1, 'them from the': 1, 'from the lips': 1, 'the lips of': 1, 'lips of nawadaha': 1, 'of nawadaha the': 1, 'nawadaha the musician': 1, 'the musician the': 1, 'musician the sweet': 1, 'the sweet singer': 1, 'sweet singer \"': 1, 'singer \" should': 1, 'you ask where': 1, 'ask where nawadaha': 1, 'where nawadaha found': 1, 'nawadaha found these': 1, 'found these songs': 1, 'these songs so': 1, 'songs so wild': 1, 'so wild and': 1, 'wild and wayward': 1, 'and wayward found': 1, 'wayward found these': 1, 'found these legends': 1, 'and traditions i': 1, 'traditions i should': 1, 'you \" in': 1, '\" in the': 2, \"in the bird's\": 1, \"the bird's nests\": 1, \"bird's nests of\": 1, 'nests of the': 1, 'the forest in': 1, 'forest in the': 1, 'in the lodges': 1, 'the lodges of': 1, 'lodges of the': 1, 'of the beaver': 1, 'the beaver in': 1, 'beaver in the': 1, 'in the hoofprint': 1, 'the hoofprint of': 1, 'hoofprint of the': 1, 'of the bison': 1, 'the bison in': 1, 'bison in the': 1, 'in the eyry': 1, 'the eyry of': 1, 'eyry of the': 1, 'of the eagle': 1, 'the eagle \"': 1, 'eagle \" all': 1, '\" all the': 1, 'all the wild': 1, 'the wild fowl': 1, 'wild fowl sang': 1, 'fowl sang them': 1, 'sang them to': 1, 'them to him': 1, 'to him in': 1, 'him in the': 1, 'in the moorlands': 1, 'the moorlands and': 1, 'moorlands and the': 1, 'and the fen': 1, 'the fen lands': 1, 'fen lands in': 1, 'lands in the': 1, 'in the melancholy': 1, 'the melancholy marshes': 1, 'melancholy marshes chetowaik': 1, 'marshes chetowaik the': 1, 'chetowaik the plover': 1, 'the plover sang': 1, 'plover sang them': 1, 'sang them mahng': 1, 'them mahng the': 1, 'mahng the loon': 1, 'the loon the': 1, 'loon the wild': 1, 'the wild goose': 1, 'wild goose wawa': 1, 'goose wawa the': 1, 'wawa the blue': 1, 'the blue heron': 1, 'blue heron the': 1, 'shuh gah and': 1, 'gah and the': 1, 'and the grouse': 1, 'the grouse the': 1, 'grouse the mushkodasa': 1, 'the mushkodasa \"': 1, 'mushkodasa \" if': 1, '\" if still': 1, 'if still further': 1, 'still further you': 1, 'further you should': 1, 'you should ask': 1, 'should ask me': 1, 'ask me tell': 1, 'me tell us': 1, 'tell us of': 1, 'us of this': 1, 'of this nawadaha': 1, 'this nawadaha \"': 1, 'nawadaha \" i': 1, '\" i should': 1, 'should answer your': 1, 'answer your inquiries': 1, 'your inquiries straightway': 1, 'inquiries straightway in': 1, 'straightway in such': 1, 'in such words': 1, 'such words as': 1, 'words as follow': 1, 'as follow \"': 1, 'follow \" in': 1, 'in the vale': 2, 'the vale of': 2, 'vale of tawasentha': 2, 'of tawasentha in': 2, 'tawasentha in the': 2, 'in the green': 2, 'the green and': 2, 'green and silent': 2, 'and silent valley': 2, 'silent valley by': 1, 'valley by the': 2, 'by the pleasant': 1, 'the pleasant water': 2, 'pleasant water courses': 2, 'water courses dwelt': 1, 'courses dwelt the': 1, 'dwelt the singer': 2, 'the singer nawadaha': 1, 'singer nawadaha round': 1, 'nawadaha round about': 1, 'round about the': 1, 'about the indian': 1, 'the indian village': 1, 'indian village spread': 1, 'village spread the': 1, 'spread the meadows': 1, 'the meadows and': 1, 'meadows and the': 1, 'and the corn': 1, 'the corn fields': 1, 'corn fields and': 1, 'fields and beyond': 1, 'and beyond them': 1, 'beyond them stood': 1, 'them stood the': 1, 'stood the forest': 1, 'the forest stood': 1, 'forest stood the': 1, 'stood the groves': 1, 'the groves of': 2, 'groves of singing': 1, 'of singing pine': 1, 'singing pine trees': 1, 'pine trees green': 1, 'trees green in': 1, 'green in summer': 1, 'in summer white': 1, 'summer white in': 1, 'white in winter': 1, 'in winter ever': 1, 'winter ever sighing': 1, 'ever sighing ever': 1, 'sighing ever singing': 1, 'ever singing \"': 1, 'singing \" and': 1, '\" and the': 1, 'and the pleasant': 1, 'water courses you': 1, 'courses you could': 1, 'you could trace': 1, 'could trace them': 1, 'trace them through': 1, 'them through the': 1, 'through the valley': 1, 'the valley by': 1, 'by the rushing': 1, 'the rushing in': 1, 'rushing in the': 1, 'in the spring': 1, 'the spring time': 1, 'spring time by': 1, 'time by the': 1, 'by the alders': 1, 'the alders in': 1, 'alders in the': 1, 'in the summer': 1, 'the summer by': 1, 'summer by the': 1, 'by the white': 1, 'the white fog': 1, 'white fog in': 1, 'fog in the': 1, 'in the autumn': 1, 'the autumn by': 1, 'autumn by the': 1, 'by the black': 1, 'the black line': 1, 'black line in': 1, 'line in the': 1, 'in the winter': 1, 'the winter and': 1, 'winter and beside': 1, 'and beside them': 1, 'beside them dwelt': 1, 'them dwelt the': 1, 'the singer in': 1, 'singer in the': 1, 'silent valley \"': 1, 'valley \" there': 1, '\" there he': 1, 'there he sang': 1, 'he sang of': 1, 'sang of hiawatha': 1, 'of hiawatha sang': 1, 'hiawatha sang his': 1, 'sang his wondrous': 1, 'his wondrous birth': 1, 'wondrous birth and': 1, 'birth and being': 1, 'and being how': 1, 'being how he': 1, 'how he prayed': 1, 'he prayed and': 1, 'prayed and how': 1, 'and how be': 1, 'how be fasted': 1, 'be fasted how': 1, 'fasted how he': 1, 'how he lived': 1, 'he lived and': 1, 'lived and toiled': 1, 'and toiled and': 1, 'toiled and suffered': 1, 'and suffered that': 1, 'suffered that the': 1, 'that the tribes': 1, 'the tribes of': 3, 'tribes of men': 3, 'of men might': 1, 'men might prosper': 1, 'might prosper that': 1, 'prosper that he': 1, 'that he might': 1, 'he might advance': 1, 'might advance his': 1, 'advance his people': 1, 'his people \"': 1, 'people \" ye': 1, '\" ye who': 1, 'ye who love': 2, 'who love the': 1, 'love the haunts': 1, 'the haunts of': 1, 'haunts of nature': 1, 'of nature love': 1, 'nature love the': 1, 'love the sunshine': 1, 'the sunshine of': 1, 'sunshine of the': 1, 'of the meadow': 1, 'the meadow love': 1, 'meadow love the': 1, 'love the shadow': 1, 'the shadow of': 1, 'shadow of the': 1, 'the forest love': 1, 'forest love the': 1, 'love the wind': 1, 'the wind among': 1, 'wind among the': 1, 'among the branches': 1, 'the branches and': 1, 'branches and the': 1, 'and the rain': 1, 'the rain shower': 1, 'rain shower and': 1, 'shower and the': 1, 'and the snow': 1, 'the snow storm': 1, 'snow storm and': 1, 'storm and the': 1, 'and the rushing': 1, 'great rivers through': 1, 'rivers through their': 1, 'through their palisades': 1, 'their palisades of': 1, 'palisades of pine': 1, 'of pine trees': 1, 'pine trees and': 1, 'trees and the': 1, 'and the thunder': 1, 'the thunder in': 1, 'the mountains whose': 1, 'mountains whose innumerable': 1, 'whose innumerable echoes': 1, 'innumerable echoes flap': 1, 'echoes flap like': 1, 'flap like eagles': 1, 'like eagles in': 1, 'eagles in their': 1, 'in their eyries;--': 1, 'their eyries;-- listen': 1, 'eyries;-- listen to': 1, 'listen to these': 1, 'to these wild': 1, 'these wild traditions': 1, 'wild traditions to': 1, 'traditions to this': 1, 'to this song': 3, 'this song of': 4, 'song of hiawatha': 4, 'of hiawatha ye': 3, 'hiawatha ye who': 2, 'who love a': 1, 'love a nation': 1, \"a nation 's\": 1, \"nation 's legends\": 1, \"'s legends love\": 1, 'legends love the': 1, 'love the ballads': 1, 'the ballads of': 1, 'ballads of a': 1, 'of a people': 1, 'a people that': 1, 'people that like': 1, 'that like voices': 1, 'like voices from': 1, 'voices from afar': 1, 'from afar off': 1, 'afar off call': 1, 'off call to': 1, 'call to us': 1, 'to us to': 1, 'us to pause': 1, 'to pause and': 1, 'pause and listen': 1, 'and listen speak': 1, 'listen speak in': 1, 'speak in tones': 1, 'in tones so': 1, 'tones so plain': 1, 'so plain and': 1, 'plain and childlike': 1, 'and childlike scarcely': 1, 'childlike scarcely can': 1, 'scarcely can the': 1, 'can the ear': 1, 'the ear distinguish': 1, 'ear distinguish whether': 1, 'distinguish whether they': 1, 'whether they are': 1, 'they are sung': 1, 'are sung or': 1, 'sung or spoken;--': 1, 'or spoken;-- listen': 1, 'spoken;-- listen to': 1, 'listen to this': 2, 'to this indian': 1, 'this indian legend': 1, 'indian legend to': 1, 'legend to this': 1, 'hiawatha ye whose': 1, 'ye whose hearts': 1, 'whose hearts are': 1, 'hearts are fresh': 1, 'are fresh and': 1, 'fresh and simple': 1, 'and simple who': 1, 'simple who have': 1, 'who have faith': 1, 'have faith in': 1, 'faith in god': 1, 'in god and': 1, 'god and nature': 1, 'and nature who': 1, 'nature who believe': 1, 'who believe that': 1, 'believe that in': 1, 'that in all': 1, 'in all ages': 1, 'all ages every': 1, 'ages every human': 1, 'every human heart': 1, 'human heart is': 1, 'heart is human': 1, 'is human that': 1, 'human that in': 1, 'that in even': 1, 'in even savage': 1, 'even savage bosoms': 1, 'savage bosoms there': 1, 'bosoms there are': 1, 'there are longings': 1, 'are longings yearnings': 1, 'longings yearnings strivings': 1, 'yearnings strivings for': 1, 'strivings for the': 1, 'for the good': 1, 'the good they': 1, 'good they comprehend': 1, 'they comprehend not': 1, 'comprehend not that': 1, 'not that the': 1, 'that the feeble': 1, 'the feeble hands': 1, 'feeble hands and': 1, 'hands and helpless': 1, 'and helpless groping': 1, 'helpless groping blindly': 1, 'groping blindly in': 1, 'blindly in the': 1, 'in the darkness': 1, 'the darkness touch': 1, 'darkness touch god': 1, \"touch god 's\": 1, \"god 's right\": 1, \"'s right hand\": 1, 'right hand in': 1, 'hand in that': 1, 'in that darkness': 1, 'that darkness and': 1, 'darkness and are': 1, 'and are lifted': 1, 'are lifted up': 1, 'lifted up and': 1, 'up and strengthened;--': 1, 'and strengthened;-- listen': 1, 'strengthened;-- listen to': 1, 'to this simple': 1, 'this simple story': 1, 'simple story to': 1, 'story to this': 1, 'ye who sometimes': 1, 'who sometimes in': 1, 'sometimes in your': 1, 'in your rambles': 1, 'your rambles through': 1, 'rambles through the': 1, 'through the green': 1, 'the green lanes': 1, 'green lanes of': 1, 'lanes of the': 1, 'of the country': 1, 'the country where': 1, 'country where the': 1, 'where the tangled': 1, 'the tangled barberry': 1, 'tangled barberry bushes': 1, 'barberry bushes hang': 1, 'bushes hang their': 1, 'hang their tufts': 1, 'their tufts of': 1, 'tufts of crimson': 1, 'of crimson berries': 1, 'crimson berries over': 1, 'berries over stone': 1, 'over stone walls': 1, 'stone walls gray': 1, 'walls gray with': 1, 'gray with mosses': 1, 'with mosses pause': 1, 'mosses pause by': 1, 'pause by some': 1, 'by some neglected': 1, 'some neglected graveyard': 1, 'neglected graveyard for': 1, 'graveyard for a': 1, 'for a while': 1, 'a while to': 1, 'while to muse': 1, 'to muse and': 1, 'muse and ponder': 1, 'and ponder on': 1, 'ponder on a': 1, 'on a half': 1, 'a half effaced': 1, 'half effaced inscription': 1, 'effaced inscription written': 1, 'inscription written with': 1, 'written with little': 1, 'with little skill': 1, 'little skill of': 1, 'skill of song': 1, 'of song craft': 1, 'song craft homely': 1, 'craft homely phrases': 1, 'homely phrases but': 1, 'phrases but each': 1, 'but each letter': 1, 'each letter full': 1, 'letter full of': 1, 'full of hope': 1, 'of hope and': 1, 'hope and yet': 1, 'and yet of': 1, 'yet of heart': 1, 'of heart break': 1, 'heart break full': 1, 'break full of': 1, 'full of all': 1, 'of all the': 1, 'all the tender': 1, 'the tender pathos': 1, 'tender pathos stay': 1, 'pathos stay and': 1, 'stay and read': 1, 'and read this': 1, 'read this rude': 1, 'this rude inscription': 1, 'rude inscription read': 1, 'inscription read this': 1, 'read this song': 1, 'of hiawatha on': 1, 'hiawatha on the': 1, 'on the great': 1, 'the great red': 2, 'great red pipe': 2, 'red pipe stone': 2, 'pipe stone quarry': 2, 'stone quarry gitche': 1, 'quarry gitche manito': 1, 'gitche manito the': 3, 'manito the mighty': 3, 'the mighty he': 1, 'mighty he the': 1, 'he the master': 1, 'the master of': 1, 'master of life': 1, 'of life descending': 1, 'life descending on': 1, 'descending on the': 1, 'on the red': 1, 'the red crags': 1, 'red crags of': 1, 'crags of the': 1, 'of the quarry': 2, 'the quarry stood': 1, 'quarry stood erect': 1, 'stood erect and': 1, 'erect and called': 1, 'and called the': 1, 'called the nations': 1, 'the nations called': 1, 'nations called the': 1, 'called the tribes': 1, 'of men together': 2, 'men together from': 1, 'together from his': 1, 'from his footprints': 1, 'his footprints flowed': 1, 'footprints flowed a': 1, 'flowed a river': 1, 'a river leaped': 1, 'river leaped into': 1, 'leaped into the': 1, 'into the light': 1, 'the light of': 1, 'light of morning': 1, \"of morning o'er\": 1, \"morning o'er the\": 1, \"o'er the precipice\": 1, 'the precipice plunging': 1, 'precipice plunging downward': 1, 'plunging downward gleamed': 1, 'downward gleamed like': 1, 'gleamed like ishkoodah': 1, 'like ishkoodah the': 1, 'ishkoodah the comet': 1, 'the comet and': 1, 'comet and the': 1, 'and the spirit': 1, 'the spirit stooping': 1, 'spirit stooping earthward': 1, 'stooping earthward with': 1, 'earthward with his': 1, 'with his finger': 1, 'his finger on': 1, 'finger on the': 1, 'on the meadow': 2, 'the meadow traced': 1, 'meadow traced a': 1, 'traced a winding': 1, 'a winding pathway': 1, 'winding pathway for': 1, 'pathway for it': 1, 'for it saying': 1, 'it saying to': 1, 'saying to it': 1, 'to it \"': 1, 'it \" run': 1, '\" run in': 1, 'run in this': 1, 'in this way': 1, 'this way \"': 1, 'way \" from': 1, 'from the red': 1, 'the red stone': 1, 'red stone of': 1, 'stone of the': 1, 'the quarry with': 1, 'quarry with his': 1, 'with his hand': 1, 'his hand he': 1, 'hand he broke': 1, 'he broke a': 1, 'broke a fragment': 1, 'a fragment moulded': 1, 'fragment moulded it': 1, 'moulded it into': 1, 'it into a': 1, 'into a pipe': 1, 'a pipe head': 1, 'pipe head shaped': 1, 'head shaped and': 1, 'shaped and fashioned': 1, 'and fashioned it': 1, 'fashioned it with': 1, 'it with figures': 1, 'with figures from': 1, 'figures from the': 1, 'from the margin': 1, 'the margin of': 1, 'margin of the': 1, 'of the river': 1, 'the river took': 1, 'river took a': 1, 'took a long': 1, 'a long reed': 1, 'long reed for': 1, 'reed for a': 1, 'for a pipe': 1, 'a pipe stem': 1, 'pipe stem with': 1, 'stem with its': 1, 'with its dark': 1, 'its dark green': 1, 'dark green leaves': 1, 'green leaves upon': 1, 'leaves upon it': 1, 'upon it filled': 1, 'it filled the': 1, 'filled the pipe': 1, 'the pipe with': 1, 'pipe with bark': 1, 'with bark of': 1, 'bark of willow': 1, 'of willow with': 1, 'willow with the': 1, 'with the bark': 1, 'the bark of': 1, 'bark of the': 1, 'of the red': 1, 'the red willow': 1, 'red willow breathed': 1, 'willow breathed upon': 1, 'breathed upon the': 1, 'upon the neighboring': 1, 'the neighboring forest': 1, 'neighboring forest made': 1, 'forest made its': 1, 'made its great': 1, 'its great boughs': 1, 'great boughs chafe': 1, 'boughs chafe together': 1, 'chafe together till': 1, 'together till in': 1, 'till in flame': 1, 'in flame they': 1, 'flame they burst': 1, 'they burst and': 1, 'burst and kindled': 1, 'and kindled and': 1, 'kindled and erect': 1, 'and erect upon': 1, 'erect upon the': 1, 'upon the mountains': 1, 'the mountains gitche': 1, 'mountains gitche manito': 1, 'the mighty smoked': 1, 'mighty smoked the': 1, 'smoked the calumet': 1, 'the calumet the': 1, 'calumet the peace': 1, 'the peace pipe': 3, 'peace pipe as': 1, 'pipe as a': 1, 'as a signal': 1, 'a signal to': 1, 'signal to the': 1, 'to the nations': 1, 'the nations and': 1, 'nations and the': 1, 'and the smoke': 1, 'the smoke rose': 1, 'smoke rose slowly': 1, 'rose slowly slowly': 1, 'slowly slowly through': 1, 'slowly through the': 1, 'through the tranquil': 1, 'the tranquil air': 1, 'tranquil air of': 1, 'air of morning': 1, 'of morning first': 1, 'morning first a': 1, 'first a single': 1, 'a single line': 1, 'single line of': 1, 'line of darkness': 1, 'of darkness then': 1, 'darkness then a': 1, 'then a denser': 1, 'a denser bluer': 1, 'denser bluer vapor': 1, 'bluer vapor then': 1, 'vapor then a': 1, 'then a snow': 1, 'a snow white': 1, 'snow white cloud': 1, 'white cloud unfolding': 1, 'cloud unfolding like': 1, 'unfolding like the': 1, 'like the tree': 1, 'the tree tops': 1, 'tree tops of': 1, 'tops of the': 1, 'the forest ever': 1, 'forest ever rising': 1, 'ever rising rising': 1, 'rising rising rising': 1, 'rising rising till': 1, 'rising till it': 1, 'till it touched': 1, 'it touched the': 1, 'touched the top': 1, 'the top of': 1, 'top of heaven': 1, 'of heaven till': 1, 'heaven till it': 1, 'till it broke': 1, 'it broke against': 1, 'broke against the': 1, 'against the heaven': 1, 'the heaven and': 1, 'heaven and rolled': 1, 'and rolled outward': 1, 'rolled outward all': 1, 'outward all around': 1, 'all around it': 1, 'around it from': 1, 'it from the': 1, 'from the groves': 1, 'groves of tuscaloosa': 1, 'of tuscaloosa from': 1, 'tuscaloosa from the': 1, 'from the far': 1, 'the far off': 1, 'far off rocky': 1, 'off rocky mountains': 1, 'rocky mountains from': 1, 'mountains from the': 1, 'from the northern': 1, 'the northern lakes': 1, 'northern lakes and': 1, 'lakes and rivers': 1, 'and rivers all': 1, 'rivers all the': 1, 'all the tribes': 1, 'the tribes beheld': 1, 'tribes beheld the': 1, 'beheld the signal': 1, 'the signal saw': 1, 'signal saw the': 1, 'saw the distant': 1, 'the distant smoke': 1, 'distant smoke ascending': 1, 'smoke ascending and': 1, 'ascending and the': 1, 'and the prophets': 1, 'the prophets of': 1, 'prophets of the': 1, 'of the nations': 2, 'the nations by': 1, 'nations by the': 1, 'by the signal': 2, 'the signal of': 2, 'signal of the': 2, 'of the peace': 2, 'peace pipe bending': 1, 'pipe bending like': 1, 'bending like a': 1, 'like a wand': 1, 'a wand of': 1, 'wand of willow': 1, 'of willow waving': 1, 'willow waving like': 1, 'waving like a': 1, 'like a hand': 1, 'a hand that': 1, 'hand that beckons': 1, 'that beckons gitche': 1, 'beckons gitche manito': 1, 'the mighty calls': 1, 'mighty calls the': 1, 'calls the tribes': 1, 'men together calls': 1, 'together calls the': 1, 'calls the warriors': 1, 'the warriors to': 1, 'warriors to his': 1, 'to his council': 1, 'his council \"': 1, 'council \" down': 1, '\" down the': 1, 'down the rivers': 1, \"the rivers o'er\": 1, \"rivers o'er the\": 1, \"o'er the prairies\": 1, 'the prairies came': 1, 'prairies came the': 1, 'came the warriors': 1, 'the warriors of': 1, 'warriors of the': 1, 'the nations all': 1, 'nations all the': 1, 'all the warriors': 1, 'the warriors drawn': 1, 'warriors drawn together': 1, 'drawn together by': 1, 'together by the': 1, 'peace pipe to': 1, 'pipe to the': 1, 'to the great': 1, 'stone quarry and': 1, 'quarry and they': 1, 'and they stood': 1, 'they stood there': 1, 'stood there on': 1, 'there on the': 1}\n"
     ]
    }
   ],
   "source": [
    "unigram_freq = dict(Counter(unigrams))\n",
    "bigram_freq = dict(Counter(bigrams))\n",
    "trigram_freq = dict(Counter(trigrams))\n",
    "\n",
    "print(len(unigram_freq))\n",
    "print(\"Unigram Frequency\\n\")\n",
    "print(unigram_freq)\n",
    "\n",
    "print(len(bigram_freq))\n",
    "print(\"\\nBigram Frequency\\n\")\n",
    "print(bigram_freq)\n",
    "\n",
    "print(len(trigram_freq))\n",
    "print(\"\\nTrigram Frequency\\n\")\n",
    "print(trigram_freq)\n"
   ]
  },
  {
   "cell_type": "markdown",
   "metadata": {},
   "source": [
    "#### Probabilities of n-grams"
   ]
  },
  {
   "cell_type": "code",
   "execution_count": 6,
   "metadata": {},
   "outputs": [
    {
     "name": "stdout",
     "output_type": "stream",
     "text": [
      "{'to': 0.014915693904020753, 'this': 0.00648508430609598, 'urn': 0.0006485084306095979, 'let': 0.0006485084306095979, 'those': 0.0006485084306095979, 'repair': 0.0006485084306095979, 'that': 0.011024643320363165, 'are': 0.00324254215304799, 'either': 0.0006485084306095979, 'true': 0.0019455252918287938, 'or': 0.0012970168612191958, 'fair': 0.0006485084306095979, 'for': 0.0038910505836575876, 'these': 0.0038910505836575876, 'dead': 0.0006485084306095979, 'birds': 0.0006485084306095979, 'sigh': 0.0006485084306095979, 'a': 0.01297016861219196, 'prayer': 0.0006485084306095979, 'sir': 0.0006485084306095979, 'charles': 0.0006485084306095979, 'into': 0.0025940337224383916, 'my': 0.007782101167315175, 'chamber': 0.0006485084306095979, 'coming': 0.0006485084306095979, 'in': 0.02464332036316472, 'when': 0.0012970168612191958, 'i': 0.01232166018158236, 'was': 0.0012970168612191958, 'writing': 0.0006485084306095979, 'of': 0.04345006485084306, 'fairy': 0.0019455252918287938, 'queen': 0.0025940337224383916, 'praysaid': 0.0006485084306095979, 'hewhen': 0.0006485084306095979, 'mab': 0.0012970168612191958, 'you': 0.005188067444876783, 'do': 0.0006485084306095979, 'see': 0.0006485084306095979, 'present': 0.0012970168612191958, 'service': 0.0012970168612191958, 'her': 0.004539559014267186, 'majesty': 0.0006485084306095979, 'and': 0.04409857328145266, 'tell': 0.0025940337224383916, 'have': 0.0019455252918287938, 'heard': 0.0012970168612191958, 'fames': 0.0006485084306095979, 'loud': 0.0006485084306095979, 'report': 0.0006485084306095979, 'both': 0.0012970168612191958, 'beauty': 0.0006485084306095979, 'stately': 0.0006485084306095979, 'court': 0.0012970168612191958, 'within': 0.0006485084306095979, 'fancy': 0.0012970168612191958, 'viewed': 0.0006485084306095979, 'thoughts': 0.0012970168612191958, 'bowed': 0.0006485084306095979, 'low': 0.0006485084306095979, 'fearing': 0.0006485084306095979, 'should': 0.005836575875486381, 'be': 0.0012970168612191958, 'rude': 0.0012970168612191958, 'kissing': 0.0006485084306095979, 'garment': 0.0006485084306095979, 'thin': 0.0006485084306095979, 'which': 0.0025940337224383916, 'made': 0.0012970168612191958, 'knelt': 0.0006485084306095979, 'upon': 0.0038910505836575876, 'thought': 0.0006485084306095979, 'like': 0.005188067444876783, 'one': 0.0006485084306095979, 'prayed': 0.0012970168612191958, 'then': 0.0025940337224383916, 'whispers': 0.0006485084306095979, 'soft': 0.0006485084306095979, 'did': 0.0012970168612191958, 'his': 0.00648508430609598, 'humble': 0.0012970168612191958, 'mirth': 0.0006485084306095979, 'sent': 0.0006485084306095979, 'thus': 0.0006485084306095979, 'by': 0.005836575875486381, 'imagination': 0.0006485084306095979, 'been': 0.0006485084306095979, 'seen': 0.0006485084306095979, 'the': 0.0959792477302205, 'our': 0.0025940337224383916, 'vice': 0.0019455252918287938, 'runs': 0.0006485084306095979, 'beyond': 0.0012970168612191958, 'all': 0.007782101167315175, 'old': 0.0006485084306095979, 'men': 0.0025940337224383916, 'saw': 0.0012970168612191958, 'far': 0.0019455252918287938, 'authentically': 0.0006485084306095979, 'above': 0.0006485084306095979, 'laws': 0.0006485084306095979, 'scorning': 0.0006485084306095979, 'virtues': 0.0006485084306095979, 'safe': 0.0006485084306095979, 'golden': 0.0006485084306095979, 'mean': 0.0006485084306095979, 'sits': 0.0006485084306095979, 'uncontrolled': 0.0006485084306095979, 'high': 0.0006485084306095979, 'extreme': 0.0006485084306095979, 'circes': 0.0006485084306095979, 'thy': 0.004539559014267186, 'monsters': 0.0006485084306095979, 'painted': 0.0006485084306095979, 'out': 0.0012970168612191958, 'hue': 0.0006485084306095979, 'feigned': 0.0006485084306095979, 'filthiness': 0.0006485084306095979, 'but': 0.0012970168612191958, 'ours': 0.0006485084306095979, 'is': 0.0012970168612191958, 'puts': 0.0006485084306095979, 'down': 0.0012970168612191958, 'proverbs': 0.0006485084306095979, 'themes': 0.0006485084306095979, 'excels': 0.0006485084306095979, 'fables': 0.0006485084306095979, 'dreams': 0.0006485084306095979, 'lo': 0.0006485084306095979, 'man': 0.0006485084306095979, 'whose': 0.00324254215304799, 'muse': 0.0019455252918287938, 'whilome': 0.0006485084306095979, 'maske': 0.0006485084306095979, 'as': 0.00324254215304799, 'time': 0.0012970168612191958, 'taught': 0.0006485084306095979, 'lowly': 0.0006485084306095979, 'shepheards': 0.0006485084306095979, 'weeds': 0.0006485084306095979, 'am': 0.0006485084306095979, 'now': 0.0012970168612191958, 'enforst': 0.0006485084306095979, 'unfitter': 0.0006485084306095979, 'taske': 0.0006485084306095979, 'trumpets': 0.0006485084306095979, 'sterne': 0.0006485084306095979, 'chaunge': 0.0006485084306095979, 'mine': 0.0019455252918287938, 'oaten': 0.0006485084306095979, 'reeds': 0.0012970168612191958, 'sing': 0.0006485084306095979, 'knights': 0.0012970168612191958, 'ladies': 0.0006485084306095979, 'gentle': 0.0012970168612191958, 'deeds': 0.0006485084306095979, 'prayses': 0.0006485084306095979, 'having': 0.0006485084306095979, 'slept': 0.0006485084306095979, 'silence': 0.0006485084306095979, 'long': 0.0019455252918287938, 'me': 0.0038910505836575876, 'too': 0.0019455252918287938, 'meane': 0.0006485084306095979, 'sacred': 0.0006485084306095979, 'areeds': 0.0006485084306095979, 'blazon': 0.0006485084306095979, 'broad': 0.0006485084306095979, 'emongst': 0.0006485084306095979, 'learned': 0.0006485084306095979, 'throng': 0.0006485084306095979, 'fierce': 0.0006485084306095979, 'warres': 0.0006485084306095979, 'faithful': 0.0006485084306095979, 'loves': 0.0012970168612191958, 'shall': 0.0006485084306095979, 'moralize': 0.0006485084306095979, 'song': 0.0038910505836575876, 'helpe': 0.0012970168612191958, 'o': 0.0025940337224383916, 'holy': 0.0006485084306095979, 'virgin': 0.0006485084306095979, 'chiefe': 0.0006485084306095979, 'nine': 0.0006485084306095979, 'weaker': 0.0006485084306095979, 'novice': 0.0006485084306095979, 'performe': 0.0006485084306095979, 'will': 0.0006485084306095979, 'lay': 0.0019455252918287938, 'forth': 0.0006485084306095979, 'thine': 0.0012970168612191958, 'everlasting': 0.0006485084306095979, 'scryne': 0.0006485084306095979, 'antique': 0.0006485084306095979, 'rolles': 0.0006485084306095979, 'there': 0.0025940337224383916, 'lye': 0.0006485084306095979, 'hidden': 0.0006485084306095979, 'still': 0.0012970168612191958, 'faerie': 0.0006485084306095979, 'fairest': 0.0006485084306095979, 'tanaquill': 0.0006485084306095979, 'whom': 0.0006485084306095979, 'most': 0.0012970168612191958, 'noble': 0.0006485084306095979, 'briton': 0.0006485084306095979, 'prince': 0.0006485084306095979, 'so': 0.00324254215304799, 'sought': 0.0006485084306095979, 'through': 0.00324254215304799, 'world': 0.0012970168612191958, 'suffered': 0.0012970168612191958, 'much': 0.0006485084306095979, 'ill': 0.0006485084306095979, 'must': 0.0006485084306095979, 'rue': 0.0006485084306095979, 'undeserved': 0.0006485084306095979, 'wrong': 0.0006485084306095979, 'thou': 0.0012970168612191958, 'weake': 0.0006485084306095979, 'wit': 0.0006485084306095979, 'sharpen': 0.0006485084306095979, 'dull': 0.0006485084306095979, 'tong': 0.0006485084306095979, 'dreaded': 0.0006485084306095979, 'impe': 0.0006485084306095979, 'highest': 0.0006485084306095979, 'jove': 0.0006485084306095979, 'faire': 0.0012970168612191958, 'venus': 0.0006485084306095979, 'sonne': 0.0006485084306095979, 'with': 0.011673151750972763, 'cruell': 0.0006485084306095979, 'dart': 0.0006485084306095979, 'at': 0.0006485084306095979, 'good': 0.0012970168612191958, 'knight': 0.0006485084306095979, 'cunningly': 0.0006485084306095979, 'didst': 0.0006485084306095979, 'rove': 0.0006485084306095979, 'glorious': 0.0012970168612191958, 'fire': 0.0025940337224383916, 'it': 0.005836575875486381, 'kindled': 0.0012970168612191958, 'hart': 0.0006485084306095979, 'deadly': 0.0006485084306095979, 'heben': 0.0006485084306095979, 'bow': 0.0006485084306095979, 'apart': 0.0006485084306095979, 'mother': 0.0006485084306095979, 'milde': 0.0006485084306095979, 'come': 0.0012970168612191958, 'ayde': 0.0006485084306095979, 'bring': 0.0006485084306095979, 'triumphant': 0.0006485084306095979, 'mart': 0.0006485084306095979, 'jollities': 0.0006485084306095979, 'arrayd': 0.0006485084306095979, 'after': 0.0006485084306095979, 'murdrous': 0.0006485084306095979, 'spoiles': 0.0006485084306095979, 'bloudy': 0.0006485084306095979, 'rage': 0.0006485084306095979, 'allayd': 0.0006485084306095979, 'them': 0.005188067444876783, 'eke': 0.0006485084306095979, 'goddesse': 0.0006485084306095979, 'heavenly': 0.0006485084306095979, 'bright': 0.0006485084306095979, 'mirrour': 0.0006485084306095979, 'grace': 0.0006485084306095979, 'majestie': 0.0006485084306095979, 'divine': 0.0006485084306095979, 'great': 0.004539559014267186, 'lady': 0.0006485084306095979, 'greatest': 0.0006485084306095979, 'isle': 0.0006485084306095979, 'light': 0.0019455252918287938, 'phoebus': 0.0006485084306095979, 'lampe': 0.0006485084306095979, 'throughout': 0.0006485084306095979, 'doth': 0.0006485084306095979, 'shine': 0.0006485084306095979, 'shed': 0.0006485084306095979, 'beames': 0.0006485084306095979, 'feeble': 0.0012970168612191958, 'eyne': 0.0006485084306095979, 'raise': 0.0006485084306095979, 'vile': 0.0006485084306095979, 'thinke': 0.0006485084306095979, 'type': 0.0006485084306095979, 'argument': 0.0006485084306095979, 'afflicted': 0.0006485084306095979, 'stile': 0.0006485084306095979, 'heare': 0.0006485084306095979, 'vouchsafe': 0.0006485084306095979, 'dearest': 0.0006485084306095979, 'dred': 0.0006485084306095979, 'while': 0.0012970168612191958, 'hiawatha': 0.0038910505836575876, 'especially': 0.0006485084306095979, '\"': 0.009727626459143969, 'wah': 0.0012970168612191958, 'taysee': 0.0006485084306095979, 'little': 0.00324254215304799, 'fly': 0.0006485084306095979, 'flitting': 0.0006485084306095979, 'white': 0.00324254215304799, 'insect': 0.0006485084306095979, 'dancing': 0.0006485084306095979, 'creature': 0.0006485084306095979, 'your': 0.0019455252918287938, 'candle': 0.0006485084306095979, 'ere': 0.0012970168612191958, 'bed': 0.0006485084306095979, 'sleep': 0.0006485084306095979, 'close': 0.0006485084306095979, 'eyelids': 0.0006485084306095979, 'ask': 0.0019455252918287938, 'whence': 0.0012970168612191958, 'stories': 0.0006485084306095979, 'legends': 0.0019455252918287938, 'traditions': 0.0019455252918287938, 'odors': 0.0006485084306095979, 'forest': 0.0038910505836575876, 'dew': 0.0006485084306095979, 'damp': 0.0006485084306095979, 'meadows': 0.0012970168612191958, 'curling': 0.0006485084306095979, 'smoke': 0.0019455252918287938, 'wigwams': 0.0006485084306095979, 'rushing': 0.0019455252918287938, 'rivers': 0.0025940337224383916, 'their': 0.00324254215304799, 'frequent': 0.0006485084306095979, 'repetitions': 0.0006485084306095979, 'wild': 0.00324254215304799, 'reverberations': 0.0006485084306095979, 'thunder': 0.0012970168612191958, 'mountains': 0.00324254215304799, 'answer': 0.0019455252918287938, 'from': 0.008430609597924773, 'forests': 0.0006485084306095979, 'prairies': 0.0012970168612191958, 'lakes': 0.0012970168612191958, 'northland': 0.0006485084306095979, 'land': 0.0012970168612191958, 'ojibways': 0.0006485084306095979, 'dacotahs': 0.0006485084306095979, 'moors': 0.0006485084306095979, 'fen': 0.0012970168612191958, 'lands': 0.0012970168612191958, 'where': 0.0019455252918287938, 'heron': 0.0012970168612191958, 'shuh': 0.0025940337224383916, 'gah': 0.0012970168612191958, 'feeds': 0.0006485084306095979, 'among': 0.0012970168612191958, 'rushes': 0.0006485084306095979, 'repeat': 0.0006485084306095979, 'lips': 0.0006485084306095979, 'nawadaha': 0.0025940337224383916, 'musician': 0.0006485084306095979, 'sweet': 0.0006485084306095979, 'singer': 0.0019455252918287938, 'found': 0.0012970168612191958, 'songs': 0.0006485084306095979, 'wayward': 0.0006485084306095979, \"bird's\": 0.0006485084306095979, 'nests': 0.0006485084306095979, 'lodges': 0.0006485084306095979, 'beaver': 0.0006485084306095979, 'hoofprint': 0.0006485084306095979, 'bison': 0.0006485084306095979, 'eyry': 0.0006485084306095979, 'eagle': 0.0006485084306095979, 'fowl': 0.0006485084306095979, 'sang': 0.0025940337224383916, 'him': 0.0006485084306095979, 'moorlands': 0.0006485084306095979, 'melancholy': 0.0006485084306095979, 'marshes': 0.0006485084306095979, 'chetowaik': 0.0006485084306095979, 'plover': 0.0006485084306095979, 'mahng': 0.0006485084306095979, 'loon': 0.0006485084306095979, 'goose': 0.0006485084306095979, 'wawa': 0.0006485084306095979, 'blue': 0.0006485084306095979, 'grouse': 0.0006485084306095979, 'mushkodasa': 0.0006485084306095979, 'if': 0.0006485084306095979, 'further': 0.0006485084306095979, 'us': 0.0012970168612191958, 'inquiries': 0.0006485084306095979, 'straightway': 0.0006485084306095979, 'such': 0.0006485084306095979, 'words': 0.0006485084306095979, 'follow': 0.0006485084306095979, 'vale': 0.0012970168612191958, 'tawasentha': 0.0012970168612191958, 'green': 0.00324254215304799, 'silent': 0.0012970168612191958, 'valley': 0.0019455252918287938, 'pleasant': 0.0012970168612191958, 'water': 0.0012970168612191958, 'courses': 0.0012970168612191958, 'dwelt': 0.0012970168612191958, 'round': 0.0006485084306095979, 'about': 0.0006485084306095979, 'indian': 0.0012970168612191958, 'village': 0.0006485084306095979, 'spread': 0.0006485084306095979, 'corn': 0.0006485084306095979, 'fields': 0.0006485084306095979, 'stood': 0.0025940337224383916, 'groves': 0.0012970168612191958, 'singing': 0.0012970168612191958, 'pine': 0.0012970168612191958, 'trees': 0.0012970168612191958, 'summer': 0.0012970168612191958, 'winter': 0.0012970168612191958, 'ever': 0.0019455252918287938, 'sighing': 0.0006485084306095979, 'could': 0.0006485084306095979, 'trace': 0.0006485084306095979, 'spring': 0.0006485084306095979, 'alders': 0.0006485084306095979, 'fog': 0.0006485084306095979, 'autumn': 0.0006485084306095979, 'black': 0.0006485084306095979, 'line': 0.0012970168612191958, 'beside': 0.0006485084306095979, 'he': 0.0038910505836575876, 'wondrous': 0.0006485084306095979, 'birth': 0.0006485084306095979, 'being': 0.0006485084306095979, 'how': 0.0019455252918287938, 'fasted': 0.0006485084306095979, 'lived': 0.0006485084306095979, 'toiled': 0.0006485084306095979, 'tribes': 0.0025940337224383916, 'might': 0.0012970168612191958, 'prosper': 0.0006485084306095979, 'advance': 0.0006485084306095979, 'people': 0.0012970168612191958, 'ye': 0.0025940337224383916, 'who': 0.00324254215304799, 'love': 0.0038910505836575876, 'haunts': 0.0006485084306095979, 'nature': 0.0012970168612191958, 'sunshine': 0.0006485084306095979, 'meadow': 0.0019455252918287938, 'shadow': 0.0006485084306095979, 'wind': 0.0006485084306095979, 'branches': 0.0006485084306095979, 'rain': 0.0006485084306095979, 'shower': 0.0006485084306095979, 'snow': 0.0012970168612191958, 'storm': 0.0006485084306095979, 'palisades': 0.0006485084306095979, 'innumerable': 0.0006485084306095979, 'echoes': 0.0006485084306095979, 'flap': 0.0006485084306095979, 'eagles': 0.0006485084306095979, 'eyries;--': 0.0006485084306095979, 'listen': 0.0025940337224383916, 'nation': 0.0006485084306095979, \"'s\": 0.0012970168612191958, 'ballads': 0.0006485084306095979, 'voices': 0.0006485084306095979, 'afar': 0.0006485084306095979, 'off': 0.0012970168612191958, 'call': 0.0006485084306095979, 'pause': 0.0012970168612191958, 'speak': 0.0006485084306095979, 'tones': 0.0006485084306095979, 'plain': 0.0006485084306095979, 'childlike': 0.0006485084306095979, 'scarcely': 0.0006485084306095979, 'can': 0.0006485084306095979, 'ear': 0.0006485084306095979, 'distinguish': 0.0006485084306095979, 'whether': 0.0006485084306095979, 'they': 0.0025940337224383916, 'sung': 0.0006485084306095979, 'spoken;--': 0.0006485084306095979, 'legend': 0.0006485084306095979, 'hearts': 0.0006485084306095979, 'fresh': 0.0006485084306095979, 'simple': 0.0012970168612191958, 'faith': 0.0006485084306095979, 'god': 0.0012970168612191958, 'believe': 0.0006485084306095979, 'ages': 0.0006485084306095979, 'every': 0.0006485084306095979, 'human': 0.0012970168612191958, 'heart': 0.0012970168612191958, 'even': 0.0006485084306095979, 'savage': 0.0006485084306095979, 'bosoms': 0.0006485084306095979, 'longings': 0.0006485084306095979, 'yearnings': 0.0006485084306095979, 'strivings': 0.0006485084306095979, 'comprehend': 0.0006485084306095979, 'not': 0.0006485084306095979, 'hands': 0.0006485084306095979, 'helpless': 0.0006485084306095979, 'groping': 0.0006485084306095979, 'blindly': 0.0006485084306095979, 'darkness': 0.0019455252918287938, 'touch': 0.0006485084306095979, 'right': 0.0006485084306095979, 'hand': 0.0019455252918287938, 'lifted': 0.0006485084306095979, 'up': 0.0006485084306095979, 'strengthened;--': 0.0006485084306095979, 'story': 0.0006485084306095979, 'sometimes': 0.0006485084306095979, 'rambles': 0.0006485084306095979, 'lanes': 0.0006485084306095979, 'country': 0.0006485084306095979, 'tangled': 0.0006485084306095979, 'barberry': 0.0006485084306095979, 'bushes': 0.0006485084306095979, 'hang': 0.0006485084306095979, 'tufts': 0.0006485084306095979, 'crimson': 0.0006485084306095979, 'berries': 0.0006485084306095979, 'over': 0.0006485084306095979, 'stone': 0.0025940337224383916, 'walls': 0.0006485084306095979, 'gray': 0.0006485084306095979, 'mosses': 0.0006485084306095979, 'some': 0.0006485084306095979, 'neglected': 0.0006485084306095979, 'graveyard': 0.0006485084306095979, 'ponder': 0.0006485084306095979, 'on': 0.00324254215304799, 'half': 0.0006485084306095979, 'effaced': 0.0006485084306095979, 'inscription': 0.0012970168612191958, 'written': 0.0006485084306095979, 'skill': 0.0006485084306095979, 'craft': 0.0006485084306095979, 'homely': 0.0006485084306095979, 'phrases': 0.0006485084306095979, 'each': 0.0006485084306095979, 'letter': 0.0006485084306095979, 'full': 0.0012970168612191958, 'hope': 0.0006485084306095979, 'yet': 0.0006485084306095979, 'break': 0.0006485084306095979, 'tender': 0.0006485084306095979, 'pathos': 0.0006485084306095979, 'stay': 0.0006485084306095979, 'read': 0.0012970168612191958, 'red': 0.00324254215304799, 'pipe': 0.005188067444876783, 'quarry': 0.0025940337224383916, 'gitche': 0.0019455252918287938, 'manito': 0.0019455252918287938, 'mighty': 0.0019455252918287938, 'master': 0.0006485084306095979, 'life': 0.0006485084306095979, 'descending': 0.0006485084306095979, 'crags': 0.0006485084306095979, 'erect': 0.0012970168612191958, 'called': 0.0012970168612191958, 'nations': 0.0025940337224383916, 'together': 0.0025940337224383916, 'footprints': 0.0006485084306095979, 'flowed': 0.0006485084306095979, 'river': 0.0012970168612191958, 'leaped': 0.0006485084306095979, 'morning': 0.0012970168612191958, \"o'er\": 0.0012970168612191958, 'precipice': 0.0006485084306095979, 'plunging': 0.0006485084306095979, 'downward': 0.0006485084306095979, 'gleamed': 0.0006485084306095979, 'ishkoodah': 0.0006485084306095979, 'comet': 0.0006485084306095979, 'spirit': 0.0006485084306095979, 'stooping': 0.0006485084306095979, 'earthward': 0.0006485084306095979, 'finger': 0.0006485084306095979, 'traced': 0.0006485084306095979, 'winding': 0.0006485084306095979, 'pathway': 0.0006485084306095979, 'saying': 0.0006485084306095979, 'run': 0.0006485084306095979, 'way': 0.0006485084306095979, 'broke': 0.0012970168612191958, 'fragment': 0.0006485084306095979, 'moulded': 0.0006485084306095979, 'head': 0.0006485084306095979, 'shaped': 0.0006485084306095979, 'fashioned': 0.0006485084306095979, 'figures': 0.0006485084306095979, 'margin': 0.0006485084306095979, 'took': 0.0006485084306095979, 'reed': 0.0006485084306095979, 'stem': 0.0006485084306095979, 'its': 0.0012970168612191958, 'dark': 0.0006485084306095979, 'leaves': 0.0006485084306095979, 'filled': 0.0006485084306095979, 'bark': 0.0012970168612191958, 'willow': 0.0019455252918287938, 'breathed': 0.0006485084306095979, 'neighboring': 0.0006485084306095979, 'boughs': 0.0006485084306095979, 'chafe': 0.0006485084306095979, 'till': 0.0019455252918287938, 'flame': 0.0006485084306095979, 'burst': 0.0006485084306095979, 'smoked': 0.0006485084306095979, 'calumet': 0.0006485084306095979, 'peace': 0.0019455252918287938, 'signal': 0.0025940337224383916, 'rose': 0.0006485084306095979, 'slowly': 0.0012970168612191958, 'tranquil': 0.0006485084306095979, 'air': 0.0006485084306095979, 'first': 0.0006485084306095979, 'single': 0.0006485084306095979, 'denser': 0.0006485084306095979, 'bluer': 0.0006485084306095979, 'vapor': 0.0006485084306095979, 'cloud': 0.0006485084306095979, 'unfolding': 0.0006485084306095979, 'tree': 0.0006485084306095979, 'tops': 0.0006485084306095979, 'rising': 0.0019455252918287938, 'touched': 0.0006485084306095979, 'top': 0.0006485084306095979, 'heaven': 0.0012970168612191958, 'against': 0.0006485084306095979, 'rolled': 0.0006485084306095979, 'outward': 0.0006485084306095979, 'around': 0.0006485084306095979, 'tuscaloosa': 0.0006485084306095979, 'rocky': 0.0006485084306095979, 'northern': 0.0006485084306095979, 'beheld': 0.0006485084306095979, 'distant': 0.0006485084306095979, 'ascending': 0.0006485084306095979, 'prophets': 0.0006485084306095979, 'bending': 0.0006485084306095979, 'wand': 0.0006485084306095979, 'waving': 0.0006485084306095979, 'beckons': 0.0006485084306095979, 'calls': 0.0012970168612191958, 'warriors': 0.0019455252918287938, 'council': 0.0006485084306095979, 'came': 0.0006485084306095979, 'drawn': 0.0006485084306095979}\n",
      "{'to this': 0.2608695652173913, 'this urn': 0.1, 'urn let': 1.0, 'let those': 1.0, 'those repair': 1.0, 'repair that': 1.0, 'that are': 0.058823529411764705, 'are either': 0.2, 'either true': 1.0, 'true or': 0.3333333333333333, 'or fair': 0.5, 'fair for': 1.0, 'for these': 0.16666666666666666, 'these dead': 0.16666666666666666, 'dead birds': 1.0, 'birds sigh': 1.0, 'sigh a': 1.0, 'a prayer': 0.05, 'prayer sir': 1.0, 'sir charles': 1.0, 'charles into': 1.0, 'into my': 0.5, 'my chamber': 0.08333333333333333, 'chamber coming': 1.0, 'coming in': 1.0, 'in when': 0.02631578947368421, 'when i': 1.0, 'i was': 0.05263157894736842, 'was writing': 0.5, 'writing of': 1.0, 'of my': 0.014925373134328358, 'my fairy': 0.08333333333333333, 'fairy queen': 0.6666666666666666, 'queen i': 0.25, 'i praysaid': 0.05263157894736842, 'praysaid hewhen': 1.0, 'hewhen queen': 1.0, 'queen mab': 0.5, 'mab you': 0.5, 'you do': 0.125, 'do see': 1.0, 'see present': 1.0, 'present my': 0.5, 'my service': 0.08333333333333333, 'service to': 0.5, 'to her': 0.043478260869565216, 'her majesty': 0.14285714285714285, 'majesty and': 1.0, 'and tell': 0.014705882352941176, 'tell her': 0.25, 'her i': 0.14285714285714285, 'i have': 0.10526315789473684, 'have heard': 0.3333333333333333, 'heard fames': 0.5, 'fames loud': 1.0, 'loud report': 1.0, 'report both': 1.0, 'both of': 0.5, 'of her': 0.014925373134328358, 'her beauty': 0.14285714285714285, 'beauty and': 1.0, 'and her': 0.014705882352941176, 'her stately': 0.14285714285714285, 'stately court': 1.0, 'court when': 0.5, 'i queen': 0.05263157894736842, 'mab within': 0.5, 'within my': 1.0, 'my fancy': 0.08333333333333333, 'fancy viewed': 0.5, 'viewed my': 1.0, 'my thoughts': 0.16666666666666666, 'thoughts bowed': 0.5, 'bowed low': 1.0, 'low fearing': 1.0, 'fearing i': 1.0, 'i should': 0.3157894736842105, 'should be': 0.1111111111111111, 'be rude': 0.5, 'rude kissing': 0.5, 'kissing her': 1.0, 'her garment': 0.14285714285714285, 'garment thin': 1.0, 'thin which': 1.0, 'which fancy': 0.25, 'fancy made': 0.5, 'made i': 0.5, 'i knelt': 0.05263157894736842, 'knelt upon': 1.0, 'upon a': 0.16666666666666666, 'a thought': 0.05, 'thought like': 1.0, 'like one': 0.125, 'one that': 1.0, 'that prayed': 0.058823529411764705, 'prayed and': 1.0, 'and then': 0.014705882352941176, 'then in': 0.25, 'in whispers': 0.02631578947368421, 'whispers soft': 1.0, 'soft i': 1.0, 'i did': 0.05263157894736842, 'did present': 0.5, 'present his': 0.5, 'his humble': 0.1, 'humble service': 0.5, 'service which': 0.5, 'which in': 0.25, 'in mirth': 0.02631578947368421, 'mirth was': 1.0, 'was sent': 0.5, 'sent thus': 1.0, 'thus by': 1.0, 'by imagination': 0.1111111111111111, 'imagination i': 1.0, 'have been': 0.3333333333333333, 'been in': 1.0, 'in fairy': 0.02631578947368421, 'fairy court': 0.3333333333333333, 'court and': 0.5, 'and seen': 0.014705882352941176, 'seen the': 1.0, 'the fairy': 0.006756756756756757, 'queen our': 0.25, 'our vice': 0.75, 'vice runs': 0.3333333333333333, 'runs beyond': 1.0, 'beyond all': 0.5, 'all that': 0.08333333333333333, 'that old': 0.058823529411764705, 'old men': 1.0, 'men saw': 0.25, 'saw and': 0.5, 'and far': 0.014705882352941176, 'far authentically': 0.3333333333333333, 'authentically above': 1.0, 'above our': 1.0, 'our laws': 0.25, 'laws and': 1.0, 'and scorning': 0.014705882352941176, 'scorning virtues': 1.0, 'virtues safe': 1.0, 'safe and': 1.0, 'and golden': 0.014705882352941176, 'golden mean': 1.0, 'mean sits': 1.0, 'sits uncontrolled': 1.0, 'uncontrolled upon': 1.0, 'upon the': 0.5, 'the high': 0.006756756756756757, 'high extreme': 1.0, 'extreme circes': 1.0, 'circes thy': 1.0, 'thy monsters': 0.14285714285714285, 'monsters painted': 1.0, 'painted out': 1.0, 'out the': 0.5, 'the hue': 0.006756756756756757, 'hue of': 1.0, 'of feigned': 0.014925373134328358, 'feigned filthiness': 1.0, 'filthiness but': 1.0, 'but ours': 0.5, 'ours is': 1.0, 'is true': 0.5, 'true our': 0.3333333333333333, 'vice puts': 0.3333333333333333, 'puts down': 1.0, 'down all': 0.5, 'all proverbs': 0.08333333333333333, 'proverbs and': 1.0, 'and all': 0.029411764705882353, 'all themes': 0.08333333333333333, 'themes our': 1.0, 'vice excels': 0.3333333333333333, 'excels all': 1.0, 'all fables': 0.08333333333333333, 'fables and': 1.0, 'all dreams': 0.08333333333333333, 'dreams lo': 1.0, 'lo i': 1.0, 'i the': 0.05263157894736842, 'the man': 0.006756756756756757, 'man whose': 1.0, 'whose muse': 0.2, 'muse whilome': 0.3333333333333333, 'whilome did': 1.0, 'did maske': 0.5, 'maske as': 1.0, 'as time': 0.2, 'time her': 0.5, 'her taught': 0.14285714285714285, 'taught in': 1.0, 'in lowly': 0.02631578947368421, 'lowly shepheards': 1.0, 'shepheards weeds': 1.0, 'weeds am': 1.0, 'am now': 1.0, 'now enforst': 0.5, 'enforst a': 1.0, 'a far': 0.05, 'far unfitter': 0.3333333333333333, 'unfitter taske': 1.0, 'taske for': 1.0, 'for trumpets': 0.16666666666666666, 'trumpets sterne': 1.0, 'sterne to': 1.0, 'to chaunge': 0.043478260869565216, 'chaunge mine': 1.0, 'mine oaten': 0.3333333333333333, 'oaten reeds': 1.0, 'reeds and': 1.0, 'and sing': 0.014705882352941176, 'sing of': 1.0, 'of knights': 0.014925373134328358, 'knights and': 1.0, 'and ladies': 0.014705882352941176, 'ladies gentle': 1.0, 'gentle deeds': 0.5, 'deeds whose': 1.0, 'whose prayses': 0.2, 'prayses having': 1.0, 'having slept': 1.0, 'slept in': 1.0, 'in silence': 0.02631578947368421, 'silence long': 1.0, 'long me': 0.3333333333333333, 'me all': 0.16666666666666666, 'all too': 0.08333333333333333, 'too meane': 0.3333333333333333, 'meane the': 1.0, 'the sacred': 0.006756756756756757, 'sacred muse': 1.0, 'muse areeds': 0.3333333333333333, 'areeds to': 1.0, 'to blazon': 0.043478260869565216, 'blazon broad': 1.0, 'broad emongst': 1.0, 'emongst her': 1.0, 'her learned': 0.14285714285714285, 'learned throng': 1.0, 'throng fierce': 1.0, 'fierce warres': 1.0, 'warres and': 1.0, 'and faithful': 0.014705882352941176, 'faithful loves': 1.0, 'loves shall': 0.5, 'shall moralize': 1.0, 'moralize my': 1.0, 'my song': 0.08333333333333333, 'song helpe': 0.16666666666666666, 'helpe then': 0.5, 'then o': 0.25, 'o holy': 0.25, 'holy virgin': 1.0, 'virgin chiefe': 1.0, 'chiefe of': 1.0, 'of nine': 0.014925373134328358, 'nine thy': 1.0, 'thy weaker': 0.14285714285714285, 'weaker novice': 1.0, 'novice to': 1.0, 'to performe': 0.043478260869565216, 'performe thy': 1.0, 'thy will': 0.14285714285714285, 'will lay': 1.0, 'lay forth': 0.3333333333333333, 'forth out': 1.0, 'out of': 0.5, 'of thine': 0.029850746268656716, 'thine everlasting': 0.5, 'everlasting scryne': 1.0, 'scryne the': 1.0, 'the antique': 0.006756756756756757, 'antique rolles': 1.0, 'rolles which': 1.0, 'which there': 0.25, 'there lye': 0.25, 'lye hidden': 1.0, 'hidden still': 1.0, 'still of': 0.5, 'of faerie': 0.014925373134328358, 'faerie knights': 1.0, 'and fairest': 0.014705882352941176, 'fairest tanaquill': 1.0, 'tanaquill whom': 1.0, 'whom that': 1.0, 'that most': 0.058823529411764705, 'most noble': 0.5, 'noble briton': 1.0, 'briton prince': 1.0, 'prince so': 1.0, 'so long': 0.2, 'long sought': 0.3333333333333333, 'sought through': 1.0, 'through the': 0.8, 'the world': 0.013513513513513514, 'world and': 0.5, 'and suffered': 0.029411764705882353, 'suffered so': 0.5, 'so much': 0.2, 'much ill': 1.0, 'ill that': 1.0, 'that i': 0.058823529411764705, 'i must': 0.05263157894736842, 'must rue': 1.0, 'rue his': 1.0, 'his undeserved': 0.1, 'undeserved wrong': 1.0, 'wrong o': 1.0, 'o helpe': 0.25, 'helpe thou': 0.5, 'thou my': 0.5, 'my weake': 0.08333333333333333, 'weake wit': 1.0, 'wit and': 1.0, 'and sharpen': 0.014705882352941176, 'sharpen my': 1.0, 'my dull': 0.08333333333333333, 'dull tong': 1.0, 'tong and': 1.0, 'and thou': 0.014705882352941176, 'thou most': 0.5, 'most dreaded': 0.5, 'dreaded impe': 1.0, 'impe of': 1.0, 'of highest': 0.014925373134328358, 'highest jove': 1.0, 'jove faire': 1.0, 'faire venus': 0.5, 'venus sonne': 1.0, 'sonne that': 1.0, 'that with': 0.058823529411764705, 'with thy': 0.1111111111111111, 'thy cruell': 0.14285714285714285, 'cruell dart': 1.0, 'dart at': 1.0, 'at that': 1.0, 'that good': 0.058823529411764705, 'good knight': 0.5, 'knight so': 1.0, 'so cunningly': 0.2, 'cunningly didst': 1.0, 'didst rove': 1.0, 'rove that': 1.0, 'that glorious': 0.058823529411764705, 'glorious fire': 0.5, 'fire it': 0.25, 'it kindled': 0.1111111111111111, 'kindled in': 0.5, 'in his': 0.02631578947368421, 'his hart': 0.1, 'hart lay': 1.0, 'lay now': 0.3333333333333333, 'now thy': 0.5, 'thy deadly': 0.14285714285714285, 'deadly heben': 1.0, 'heben bow': 1.0, 'bow apart': 1.0, 'apart and': 1.0, 'and with': 0.04411764705882353, 'thy mother': 0.14285714285714285, 'mother milde': 1.0, 'milde come': 1.0, 'come to': 0.5, 'to mine': 0.043478260869565216, 'mine ayde': 0.3333333333333333, 'ayde come': 1.0, 'come both': 0.5, 'both and': 0.5, 'with you': 0.05555555555555555, 'you bring': 0.125, 'bring triumphant': 1.0, 'triumphant mart': 1.0, 'mart in': 1.0, 'in loves': 0.02631578947368421, 'loves and': 0.5, 'and gentle': 0.014705882352941176, 'gentle jollities': 0.5, 'jollities arrayd': 1.0, 'arrayd after': 1.0, 'after his': 1.0, 'his murdrous': 0.1, 'murdrous spoiles': 1.0, 'spoiles and': 1.0, 'and bloudy': 0.014705882352941176, 'bloudy rage': 1.0, 'rage allayd': 1.0, 'allayd and': 1.0, 'with them': 0.05555555555555555, 'them eke': 0.125, 'eke o': 1.0, 'o goddesse': 0.25, 'goddesse heavenly': 1.0, 'heavenly bright': 1.0, 'bright mirrour': 1.0, 'mirrour of': 1.0, 'of grace': 0.014925373134328358, 'grace and': 1.0, 'and majestie': 0.014705882352941176, 'majestie divine': 1.0, 'divine great': 1.0, 'great lady': 0.14285714285714285, 'lady of': 1.0, 'of the': 0.31343283582089554, 'the greatest': 0.006756756756756757, 'greatest isle': 1.0, 'isle whose': 1.0, 'whose light': 0.2, 'light like': 0.3333333333333333, 'like phoebus': 0.125, 'phoebus lampe': 1.0, 'lampe throughout': 1.0, 'throughout the': 1.0, 'world doth': 0.5, 'doth shine': 1.0, 'shine shed': 1.0, 'shed thy': 1.0, 'thy faire': 0.14285714285714285, 'faire beames': 0.5, 'beames into': 1.0, 'my feeble': 0.08333333333333333, 'feeble eyne': 0.5, 'eyne and': 1.0, 'and raise': 0.014705882352941176, 'raise my': 1.0, 'thoughts too': 0.5, 'too humble': 0.3333333333333333, 'humble and': 0.5, 'and too': 0.014705882352941176, 'too vile': 0.3333333333333333, 'vile to': 1.0, 'to thinke': 0.043478260869565216, 'thinke of': 1.0, 'of that': 0.014925373134328358, 'that true': 0.058823529411764705, 'true glorious': 0.3333333333333333, 'glorious type': 0.5, 'type of': 1.0, 'thine the': 0.5, 'the argument': 0.006756756756756757, 'argument of': 1.0, 'of mine': 0.014925373134328358, 'mine afflicted': 0.3333333333333333, 'afflicted stile': 1.0, 'stile the': 1.0, 'the which': 0.006756756756756757, 'which to': 0.25, 'to heare': 0.043478260869565216, 'heare vouchsafe': 1.0, 'vouchsafe o': 1.0, 'o dearest': 0.25, 'dearest dred': 1.0, 'dred a': 1.0, 'a while': 0.1, 'while hiawatha': 0.5, 'hiawatha to': 0.16666666666666666, 'to me': 0.043478260869565216, 'me especially': 0.16666666666666666, 'especially \"': 1.0, '\" wah': 0.06666666666666667, 'wah wah': 0.5, 'wah taysee': 0.5, 'taysee little': 1.0, 'little fire': 0.2, 'fire fly': 0.25, 'fly little': 1.0, 'little flitting': 0.2, 'flitting white': 1.0, 'white fire': 0.4, 'fire insect': 0.25, 'insect little': 1.0, 'little dancing': 0.2, 'dancing white': 1.0, 'fire creature': 0.25, 'creature light': 1.0, 'light me': 0.3333333333333333, 'me with': 0.16666666666666666, 'with your': 0.05555555555555555, 'your little': 0.3333333333333333, 'little candle': 0.2, 'candle ere': 1.0, 'ere upon': 0.5, 'upon my': 0.16666666666666666, 'my bed': 0.08333333333333333, 'bed i': 1.0, 'i lay': 0.05263157894736842, 'lay me': 0.3333333333333333, 'me ere': 0.16666666666666666, 'ere in': 0.5, 'in sleep': 0.02631578947368421, 'sleep i': 1.0, 'i close': 0.05263157894736842, 'close my': 1.0, 'my eyelids': 0.08333333333333333, 'eyelids \"': 1.0, '\" should': 0.13333333333333333, 'should you': 0.2222222222222222, 'you ask': 0.25, 'ask me': 0.6666666666666666, 'me whence': 0.16666666666666666, 'whence these': 1.0, 'these stories': 0.16666666666666666, 'stories whence': 1.0, 'these legends': 0.3333333333333333, 'legends and': 0.6666666666666666, 'and traditions': 0.029411764705882353, 'traditions with': 0.3333333333333333, 'with the': 0.2777777777777778, 'the odors': 0.006756756756756757, 'odors of': 1.0, 'the forest': 0.033783783783783786, 'forest with': 0.16666666666666666, 'the dew': 0.006756756756756757, 'dew and': 1.0, 'and damp': 0.014705882352941176, 'damp of': 1.0, 'of meadows': 0.014925373134328358, 'meadows with': 0.5, 'the curling': 0.006756756756756757, 'curling smoke': 1.0, 'smoke of': 0.3333333333333333, 'of wigwams': 0.014925373134328358, 'wigwams with': 1.0, 'the rushing': 0.02027027027027027, 'rushing of': 0.6666666666666666, 'of great': 0.029850746268656716, 'great rivers': 0.2857142857142857, 'rivers with': 0.25, 'with their': 0.05555555555555555, 'their frequent': 0.2, 'frequent repetitions': 1.0, 'repetitions and': 1.0, 'and their': 0.014705882352941176, 'their wild': 0.2, 'wild reverberations': 0.2, 'reverberations as': 1.0, 'as of': 0.2, 'of thunder': 0.014925373134328358, 'thunder in': 1.0, 'in the': 0.4473684210526316, 'the mountains': 0.02702702702702703, 'mountains i': 0.2, 'should answer': 0.3333333333333333, 'answer i': 0.6666666666666666, 'should tell': 0.2222222222222222, 'tell you': 0.5, 'you \"': 0.25, '\" from': 0.13333333333333333, 'from the': 0.8461538461538461, 'the forests': 0.006756756756756757, 'forests and': 1.0, 'and the': 0.17647058823529413, 'the prairies': 0.013513513513513514, 'prairies from': 0.5, 'the great': 0.02027027027027027, 'great lakes': 0.14285714285714285, 'lakes of': 0.5, 'the northland': 0.006756756756756757, 'northland from': 1.0, 'the land': 0.013513513513513514, 'land of': 1.0, 'the ojibways': 0.006756756756756757, 'ojibways from': 1.0, 'the dacotahs': 0.006756756756756757, 'dacotahs from': 1.0, 'mountains moors': 0.2, 'moors and': 1.0, 'and fen': 0.014705882352941176, 'fen lands': 1.0, 'lands where': 0.5, 'where the': 0.6666666666666666, 'the heron': 0.006756756756756757, 'heron the': 1.0, 'the shuh': 0.013513513513513514, 'shuh shuh': 0.5, 'shuh gah': 0.5, 'gah feeds': 0.5, 'feeds among': 1.0, 'among the': 1.0, 'the reeds': 0.006756756756756757, 'and rushes': 0.014705882352941176, 'rushes i': 1.0, 'i repeat': 0.05263157894736842, 'repeat them': 1.0, 'them as': 0.125, 'as i': 0.2, 'i heard': 0.05263157894736842, 'heard them': 0.5, 'them from': 0.125, 'the lips': 0.006756756756756757, 'lips of': 1.0, 'of nawadaha': 0.014925373134328358, 'nawadaha the': 0.25, 'the musician': 0.006756756756756757, 'musician the': 1.0, 'the sweet': 0.006756756756756757, 'sweet singer': 1.0, 'singer \"': 0.3333333333333333, 'ask where': 0.3333333333333333, 'where nawadaha': 0.3333333333333333, 'nawadaha found': 0.25, 'found these': 1.0, 'these songs': 0.16666666666666666, 'songs so': 1.0, 'so wild': 0.2, 'wild and': 0.2, 'and wayward': 0.014705882352941176, 'wayward found': 1.0, 'traditions i': 0.3333333333333333, '\" in': 0.13333333333333333, \"the bird's\": 0.006756756756756757, \"bird's nests\": 1.0, 'nests of': 1.0, 'forest in': 0.16666666666666666, 'the lodges': 0.006756756756756757, 'lodges of': 1.0, 'the beaver': 0.006756756756756757, 'beaver in': 1.0, 'the hoofprint': 0.006756756756756757, 'hoofprint of': 1.0, 'the bison': 0.006756756756756757, 'bison in': 1.0, 'the eyry': 0.006756756756756757, 'eyry of': 1.0, 'the eagle': 0.006756756756756757, 'eagle \"': 1.0, '\" all': 0.06666666666666667, 'all the': 0.3333333333333333, 'the wild': 0.013513513513513514, 'wild fowl': 0.2, 'fowl sang': 1.0, 'sang them': 0.5, 'them to': 0.125, 'to him': 0.043478260869565216, 'him in': 1.0, 'the moorlands': 0.006756756756756757, 'moorlands and': 1.0, 'the fen': 0.006756756756756757, 'lands in': 0.5, 'the melancholy': 0.006756756756756757, 'melancholy marshes': 1.0, 'marshes chetowaik': 1.0, 'chetowaik the': 1.0, 'the plover': 0.006756756756756757, 'plover sang': 1.0, 'them mahng': 0.125, 'mahng the': 1.0, 'the loon': 0.006756756756756757, 'loon the': 1.0, 'wild goose': 0.2, 'goose wawa': 1.0, 'wawa the': 1.0, 'the blue': 0.006756756756756757, 'blue heron': 1.0, 'gah and': 0.5, 'the grouse': 0.006756756756756757, 'grouse the': 1.0, 'the mushkodasa': 0.006756756756756757, 'mushkodasa \"': 1.0, '\" if': 0.06666666666666667, 'if still': 1.0, 'still further': 0.5, 'further you': 1.0, 'you should': 0.125, 'should ask': 0.1111111111111111, 'me tell': 0.16666666666666666, 'tell us': 0.25, 'us of': 0.5, 'of this': 0.014925373134328358, 'this nawadaha': 0.1, 'nawadaha \"': 0.25, '\" i': 0.06666666666666667, 'answer your': 0.3333333333333333, 'your inquiries': 0.3333333333333333, 'inquiries straightway': 1.0, 'straightway in': 1.0, 'in such': 0.02631578947368421, 'such words': 1.0, 'words as': 1.0, 'as follow': 0.2, 'follow \"': 1.0, 'the vale': 0.013513513513513514, 'vale of': 1.0, 'of tawasentha': 0.029850746268656716, 'tawasentha in': 1.0, 'the green': 0.02027027027027027, 'green and': 0.4, 'and silent': 0.029411764705882353, 'silent valley': 1.0, 'valley by': 0.6666666666666666, 'by the': 0.7777777777777778, 'the pleasant': 0.013513513513513514, 'pleasant water': 1.0, 'water courses': 1.0, 'courses dwelt': 0.5, 'dwelt the': 1.0, 'the singer': 0.013513513513513514, 'singer nawadaha': 0.3333333333333333, 'nawadaha round': 0.25, 'round about': 1.0, 'about the': 1.0, 'the indian': 0.006756756756756757, 'indian village': 0.5, 'village spread': 1.0, 'spread the': 1.0, 'the meadows': 0.006756756756756757, 'meadows and': 0.5, 'the corn': 0.006756756756756757, 'corn fields': 1.0, 'fields and': 1.0, 'and beyond': 0.014705882352941176, 'beyond them': 0.5, 'them stood': 0.125, 'stood the': 0.5, 'forest stood': 0.16666666666666666, 'the groves': 0.013513513513513514, 'groves of': 1.0, 'of singing': 0.014925373134328358, 'singing pine': 0.5, 'pine trees': 1.0, 'trees green': 0.5, 'green in': 0.2, 'in summer': 0.02631578947368421, 'summer white': 0.5, 'white in': 0.2, 'in winter': 0.02631578947368421, 'winter ever': 0.5, 'ever sighing': 0.3333333333333333, 'sighing ever': 1.0, 'ever singing': 0.3333333333333333, 'singing \"': 0.5, '\" and': 0.06666666666666667, 'courses you': 0.5, 'you could': 0.125, 'could trace': 1.0, 'trace them': 1.0, 'them through': 0.125, 'the valley': 0.006756756756756757, 'rushing in': 0.3333333333333333, 'the spring': 0.006756756756756757, 'spring time': 1.0, 'time by': 0.5, 'the alders': 0.006756756756756757, 'alders in': 1.0, 'the summer': 0.006756756756756757, 'summer by': 0.5, 'the white': 0.006756756756756757, 'white fog': 0.2, 'fog in': 1.0, 'the autumn': 0.006756756756756757, 'autumn by': 1.0, 'the black': 0.006756756756756757, 'black line': 1.0, 'line in': 0.5, 'the winter': 0.006756756756756757, 'winter and': 0.5, 'and beside': 0.014705882352941176, 'beside them': 1.0, 'them dwelt': 0.125, 'singer in': 0.3333333333333333, 'valley \"': 0.3333333333333333, '\" there': 0.06666666666666667, 'there he': 0.25, 'he sang': 0.16666666666666666, 'sang of': 0.25, 'of hiawatha': 0.07462686567164178, 'hiawatha sang': 0.16666666666666666, 'sang his': 0.25, 'his wondrous': 0.1, 'wondrous birth': 1.0, 'birth and': 1.0, 'and being': 0.014705882352941176, 'being how': 1.0, 'how he': 0.6666666666666666, 'he prayed': 0.16666666666666666, 'and how': 0.014705882352941176, 'how be': 0.3333333333333333, 'be fasted': 0.5, 'fasted how': 1.0, 'he lived': 0.16666666666666666, 'lived and': 1.0, 'and toiled': 0.014705882352941176, 'toiled and': 1.0, 'suffered that': 0.5, 'that the': 0.11764705882352941, 'the tribes': 0.02702702702702703, 'tribes of': 0.75, 'of men': 0.04477611940298507, 'men might': 0.25, 'might prosper': 0.5, 'prosper that': 1.0, 'that he': 0.058823529411764705, 'he might': 0.16666666666666666, 'might advance': 0.5, 'advance his': 1.0, 'his people': 0.1, 'people \"': 0.5, '\" ye': 0.06666666666666667, 'ye who': 0.75, 'who love': 0.4, 'love the': 0.8333333333333334, 'the haunts': 0.006756756756756757, 'haunts of': 1.0, 'of nature': 0.014925373134328358, 'nature love': 0.5, 'the sunshine': 0.006756756756756757, 'sunshine of': 1.0, 'the meadow': 0.02027027027027027, 'meadow love': 0.3333333333333333, 'the shadow': 0.006756756756756757, 'shadow of': 1.0, 'forest love': 0.16666666666666666, 'the wind': 0.006756756756756757, 'wind among': 1.0, 'the branches': 0.006756756756756757, 'branches and': 1.0, 'the rain': 0.006756756756756757, 'rain shower': 1.0, 'shower and': 1.0, 'the snow': 0.006756756756756757, 'snow storm': 0.5, 'storm and': 1.0, 'rivers through': 0.25, 'through their': 0.2, 'their palisades': 0.2, 'palisades of': 1.0, 'of pine': 0.014925373134328358, 'trees and': 0.5, 'the thunder': 0.006756756756756757, 'mountains whose': 0.2, 'whose innumerable': 0.2, 'innumerable echoes': 1.0, 'echoes flap': 1.0, 'flap like': 1.0, 'like eagles': 0.125, 'eagles in': 1.0, 'in their': 0.02631578947368421, 'their eyries;--': 0.2, 'eyries;-- listen': 1.0, 'listen to': 0.75, 'to these': 0.043478260869565216, 'these wild': 0.16666666666666666, 'wild traditions': 0.2, 'traditions to': 0.3333333333333333, 'this song': 0.4, 'song of': 0.6666666666666666, 'hiawatha ye': 0.5, 'love a': 0.16666666666666666, 'a nation': 0.05, \"nation 's\": 1.0, \"'s legends\": 0.5, 'legends love': 0.3333333333333333, 'the ballads': 0.006756756756756757, 'ballads of': 1.0, 'of a': 0.014925373134328358, 'a people': 0.05, 'people that': 0.5, 'that like': 0.058823529411764705, 'like voices': 0.125, 'voices from': 1.0, 'from afar': 0.07692307692307693, 'afar off': 1.0, 'off call': 0.5, 'call to': 1.0, 'to us': 0.043478260869565216, 'us to': 0.5, 'to pause': 0.043478260869565216, 'pause and': 0.5, 'and listen': 0.014705882352941176, 'listen speak': 0.25, 'speak in': 1.0, 'in tones': 0.02631578947368421, 'tones so': 1.0, 'so plain': 0.2, 'plain and': 1.0, 'and childlike': 0.014705882352941176, 'childlike scarcely': 1.0, 'scarcely can': 1.0, 'can the': 1.0, 'the ear': 0.006756756756756757, 'ear distinguish': 1.0, 'distinguish whether': 1.0, 'whether they': 1.0, 'they are': 0.25, 'are sung': 0.2, 'sung or': 1.0, 'or spoken;--': 0.5, 'spoken;-- listen': 1.0, 'this indian': 0.1, 'indian legend': 0.5, 'legend to': 1.0, 'ye whose': 0.25, 'whose hearts': 0.2, 'hearts are': 1.0, 'are fresh': 0.2, 'fresh and': 1.0, 'and simple': 0.014705882352941176, 'simple who': 0.5, 'who have': 0.2, 'have faith': 0.3333333333333333, 'faith in': 1.0, 'in god': 0.02631578947368421, 'god and': 0.5, 'and nature': 0.014705882352941176, 'nature who': 0.5, 'who believe': 0.2, 'believe that': 1.0, 'that in': 0.11764705882352941, 'in all': 0.02631578947368421, 'all ages': 0.08333333333333333, 'ages every': 1.0, 'every human': 1.0, 'human heart': 0.5, 'heart is': 0.5, 'is human': 0.5, 'human that': 0.5, 'in even': 0.02631578947368421, 'even savage': 1.0, 'savage bosoms': 1.0, 'bosoms there': 1.0, 'there are': 0.25, 'are longings': 0.2, 'longings yearnings': 1.0, 'yearnings strivings': 1.0, 'strivings for': 1.0, 'for the': 0.16666666666666666, 'the good': 0.006756756756756757, 'good they': 0.5, 'they comprehend': 0.25, 'comprehend not': 1.0, 'not that': 1.0, 'the feeble': 0.006756756756756757, 'feeble hands': 0.5, 'hands and': 1.0, 'and helpless': 0.014705882352941176, 'helpless groping': 1.0, 'groping blindly': 1.0, 'blindly in': 1.0, 'the darkness': 0.006756756756756757, 'darkness touch': 0.3333333333333333, 'touch god': 1.0, \"god 's\": 0.5, \"'s right\": 0.5, 'right hand': 1.0, 'hand in': 0.3333333333333333, 'in that': 0.02631578947368421, 'that darkness': 0.058823529411764705, 'darkness and': 0.3333333333333333, 'and are': 0.014705882352941176, 'are lifted': 0.2, 'lifted up': 1.0, 'up and': 1.0, 'and strengthened;--': 0.014705882352941176, 'strengthened;-- listen': 1.0, 'this simple': 0.1, 'simple story': 0.5, 'story to': 1.0, 'who sometimes': 0.2, 'sometimes in': 1.0, 'in your': 0.02631578947368421, 'your rambles': 0.3333333333333333, 'rambles through': 1.0, 'green lanes': 0.2, 'lanes of': 1.0, 'the country': 0.006756756756756757, 'country where': 1.0, 'the tangled': 0.006756756756756757, 'tangled barberry': 1.0, 'barberry bushes': 1.0, 'bushes hang': 1.0, 'hang their': 1.0, 'their tufts': 0.2, 'tufts of': 1.0, 'of crimson': 0.014925373134328358, 'crimson berries': 1.0, 'berries over': 1.0, 'over stone': 1.0, 'stone walls': 0.25, 'walls gray': 1.0, 'gray with': 1.0, 'with mosses': 0.05555555555555555, 'mosses pause': 1.0, 'pause by': 0.5, 'by some': 0.1111111111111111, 'some neglected': 1.0, 'neglected graveyard': 1.0, 'graveyard for': 1.0, 'for a': 0.3333333333333333, 'while to': 0.5, 'to muse': 0.043478260869565216, 'muse and': 0.3333333333333333, 'and ponder': 0.014705882352941176, 'ponder on': 1.0, 'on a': 0.2, 'a half': 0.05, 'half effaced': 1.0, 'effaced inscription': 1.0, 'inscription written': 0.5, 'written with': 1.0, 'with little': 0.05555555555555555, 'little skill': 0.2, 'skill of': 1.0, 'of song': 0.014925373134328358, 'song craft': 0.16666666666666666, 'craft homely': 1.0, 'homely phrases': 1.0, 'phrases but': 1.0, 'but each': 0.5, 'each letter': 1.0, 'letter full': 1.0, 'full of': 1.0, 'of hope': 0.014925373134328358, 'hope and': 1.0, 'and yet': 0.014705882352941176, 'yet of': 1.0, 'of heart': 0.014925373134328358, 'heart break': 0.5, 'break full': 1.0, 'of all': 0.014925373134328358, 'the tender': 0.006756756756756757, 'tender pathos': 1.0, 'pathos stay': 1.0, 'stay and': 1.0, 'and read': 0.014705882352941176, 'read this': 1.0, 'this rude': 0.1, 'rude inscription': 0.5, 'inscription read': 0.5, 'hiawatha on': 0.16666666666666666, 'on the': 0.8, 'great red': 0.2857142857142857, 'red pipe': 0.4, 'pipe stone': 0.25, 'stone quarry': 0.5, 'quarry gitche': 0.25, 'gitche manito': 1.0, 'manito the': 1.0, 'the mighty': 0.02027027027027027, 'mighty he': 0.3333333333333333, 'he the': 0.16666666666666666, 'the master': 0.006756756756756757, 'master of': 1.0, 'of life': 0.014925373134328358, 'life descending': 1.0, 'descending on': 1.0, 'the red': 0.02027027027027027, 'red crags': 0.2, 'crags of': 1.0, 'the quarry': 0.013513513513513514, 'quarry stood': 0.25, 'stood erect': 0.25, 'erect and': 0.5, 'and called': 0.014705882352941176, 'called the': 1.0, 'the nations': 0.02702702702702703, 'nations called': 0.25, 'men together': 0.5, 'together from': 0.25, 'from his': 0.07692307692307693, 'his footprints': 0.1, 'footprints flowed': 1.0, 'flowed a': 1.0, 'a river': 0.05, 'river leaped': 0.5, 'leaped into': 1.0, 'into the': 0.25, 'the light': 0.006756756756756757, 'light of': 0.3333333333333333, 'of morning': 0.029850746268656716, \"morning o'er\": 0.5, \"o'er the\": 1.0, 'the precipice': 0.006756756756756757, 'precipice plunging': 1.0, 'plunging downward': 1.0, 'downward gleamed': 1.0, 'gleamed like': 1.0, 'like ishkoodah': 0.125, 'ishkoodah the': 1.0, 'the comet': 0.006756756756756757, 'comet and': 1.0, 'the spirit': 0.006756756756756757, 'spirit stooping': 1.0, 'stooping earthward': 1.0, 'earthward with': 1.0, 'with his': 0.1111111111111111, 'his finger': 0.1, 'finger on': 1.0, 'meadow traced': 0.3333333333333333, 'traced a': 1.0, 'a winding': 0.05, 'winding pathway': 1.0, 'pathway for': 1.0, 'for it': 0.16666666666666666, 'it saying': 0.1111111111111111, 'saying to': 1.0, 'to it': 0.043478260869565216, 'it \"': 0.1111111111111111, '\" run': 0.06666666666666667, 'run in': 1.0, 'in this': 0.02631578947368421, 'this way': 0.1, 'way \"': 1.0, 'red stone': 0.2, 'stone of': 0.25, 'quarry with': 0.25, 'his hand': 0.1, 'hand he': 0.3333333333333333, 'he broke': 0.16666666666666666, 'broke a': 0.5, 'a fragment': 0.05, 'fragment moulded': 1.0, 'moulded it': 1.0, 'it into': 0.1111111111111111, 'into a': 0.25, 'a pipe': 0.1, 'pipe head': 0.125, 'head shaped': 1.0, 'shaped and': 1.0, 'and fashioned': 0.014705882352941176, 'fashioned it': 1.0, 'it with': 0.1111111111111111, 'with figures': 0.05555555555555555, 'figures from': 1.0, 'the margin': 0.006756756756756757, 'margin of': 1.0, 'the river': 0.006756756756756757, 'river took': 0.5, 'took a': 1.0, 'a long': 0.05, 'long reed': 0.3333333333333333, 'reed for': 1.0, 'pipe stem': 0.125, 'stem with': 1.0, 'with its': 0.05555555555555555, 'its dark': 0.5, 'dark green': 1.0, 'green leaves': 0.2, 'leaves upon': 1.0, 'upon it': 0.16666666666666666, 'it filled': 0.1111111111111111, 'filled the': 1.0, 'the pipe': 0.006756756756756757, 'pipe with': 0.125, 'with bark': 0.05555555555555555, 'bark of': 1.0, 'of willow': 0.029850746268656716, 'willow with': 0.3333333333333333, 'the bark': 0.006756756756756757, 'red willow': 0.2, 'willow breathed': 0.3333333333333333, 'breathed upon': 1.0, 'the neighboring': 0.006756756756756757, 'neighboring forest': 1.0, 'forest made': 0.16666666666666666, 'made its': 0.5, 'its great': 0.5, 'great boughs': 0.14285714285714285, 'boughs chafe': 1.0, 'chafe together': 1.0, 'together till': 0.25, 'till in': 0.3333333333333333, 'in flame': 0.02631578947368421, 'flame they': 1.0, 'they burst': 0.25, 'burst and': 1.0, 'and kindled': 0.014705882352941176, 'kindled and': 0.5, 'and erect': 0.014705882352941176, 'erect upon': 0.5, 'mountains gitche': 0.2, 'mighty smoked': 0.3333333333333333, 'smoked the': 1.0, 'the calumet': 0.006756756756756757, 'calumet the': 1.0, 'the peace': 0.02027027027027027, 'peace pipe': 1.0, 'pipe as': 0.125, 'as a': 0.2, 'a signal': 0.05, 'signal to': 0.25, 'to the': 0.08695652173913043, 'nations and': 0.25, 'the smoke': 0.006756756756756757, 'smoke rose': 0.3333333333333333, 'rose slowly': 1.0, 'slowly slowly': 0.5, 'slowly through': 0.5, 'the tranquil': 0.006756756756756757, 'tranquil air': 1.0, 'air of': 1.0, 'morning first': 0.5, 'first a': 1.0, 'a single': 0.05, 'single line': 1.0, 'line of': 0.5, 'of darkness': 0.014925373134328358, 'darkness then': 0.3333333333333333, 'then a': 0.5, 'a denser': 0.05, 'denser bluer': 1.0, 'bluer vapor': 1.0, 'vapor then': 1.0, 'a snow': 0.05, 'snow white': 0.5, 'white cloud': 0.2, 'cloud unfolding': 1.0, 'unfolding like': 1.0, 'like the': 0.125, 'the tree': 0.006756756756756757, 'tree tops': 1.0, 'tops of': 1.0, 'forest ever': 0.16666666666666666, 'ever rising': 0.3333333333333333, 'rising rising': 0.6666666666666666, 'rising till': 0.3333333333333333, 'till it': 0.6666666666666666, 'it touched': 0.1111111111111111, 'touched the': 1.0, 'the top': 0.006756756756756757, 'top of': 1.0, 'of heaven': 0.014925373134328358, 'heaven till': 0.5, 'it broke': 0.1111111111111111, 'broke against': 0.5, 'against the': 1.0, 'the heaven': 0.006756756756756757, 'heaven and': 0.5, 'and rolled': 0.014705882352941176, 'rolled outward': 1.0, 'outward all': 1.0, 'all around': 0.08333333333333333, 'around it': 1.0, 'it from': 0.1111111111111111, 'of tuscaloosa': 0.014925373134328358, 'tuscaloosa from': 1.0, 'the far': 0.006756756756756757, 'far off': 0.3333333333333333, 'off rocky': 0.5, 'rocky mountains': 1.0, 'mountains from': 0.2, 'the northern': 0.006756756756756757, 'northern lakes': 1.0, 'lakes and': 0.5, 'and rivers': 0.014705882352941176, 'rivers all': 0.25, 'tribes beheld': 0.25, 'beheld the': 1.0, 'the signal': 0.02027027027027027, 'signal saw': 0.25, 'saw the': 0.5, 'the distant': 0.006756756756756757, 'distant smoke': 1.0, 'smoke ascending': 0.3333333333333333, 'ascending and': 1.0, 'the prophets': 0.006756756756756757, 'prophets of': 1.0, 'nations by': 0.25, 'signal of': 0.5, 'pipe bending': 0.125, 'bending like': 1.0, 'like a': 0.25, 'a wand': 0.05, 'wand of': 1.0, 'willow waving': 0.3333333333333333, 'waving like': 1.0, 'a hand': 0.05, 'hand that': 0.3333333333333333, 'that beckons': 0.058823529411764705, 'beckons gitche': 1.0, 'mighty calls': 0.3333333333333333, 'calls the': 1.0, 'together calls': 0.25, 'the warriors': 0.02027027027027027, 'warriors to': 0.3333333333333333, 'to his': 0.043478260869565216, 'his council': 0.1, 'council \"': 1.0, '\" down': 0.06666666666666667, 'down the': 0.5, 'the rivers': 0.006756756756756757, \"rivers o'er\": 0.25, 'prairies came': 0.5, 'came the': 1.0, 'warriors of': 0.3333333333333333, 'nations all': 0.25, 'warriors drawn': 0.3333333333333333, 'drawn together': 1.0, 'together by': 0.25, 'pipe to': 0.125, 'quarry and': 0.25, 'and they': 0.014705882352941176, 'they stood': 0.25, 'stood there': 0.25, 'there on': 0.25}\n"
     ]
    }
   ],
   "source": [
    "unigram_prob, bigram_prob, trigram_prob = {}, {}, {}\n",
    "smoothed_unigram, smoothed_bigram, smoothed_trigram = {}, {}, {}  #Smoothed n-grams to use if unknowns found\n",
    "\n",
    "#Unigram\n",
    "for i in unigram_freq:\n",
    "    unigram_prob[i] = unigram_freq[i]/len(tokens)\n",
    "    smoothed_unigram[i] = (unigram_freq[i] + 0.8)/(len(tokens) + (0.8 * len(unigram_freq)))   #Smoothed unigram probabilities using Add-k Laplace \n",
    "print(unigram_prob)\n",
    "\n",
    "#Bigram\n",
    "for i, j in zip(bigrams, bigram_div):\n",
    "    bigram_prob[i] = bigram_freq[i]/unigram_freq[j]\n",
    "    smoothed_bigram[i] = (bigram_freq[i] + 0.8)/(unigram_freq[j] + (0.8 * len(bigram_freq)))   #Smoothed bigram probabilites using Add-k Laplace \n",
    "print(bigram_prob)  \n",
    "\n",
    "\n",
    "#Trigram\n",
    "for i, j in zip(trigrams, trigram_div):\n",
    "    trigram_prob[i] = trigram_freq[i]/bigram_freq[j]\n",
    "    smoothed_trigram[i] = (trigram_freq[i]+ 0.8)/(bigram_freq[j] + (0.8 * len(trigram_freq)))   #Smoothed trigram probabilites using Add-k Laplace \n",
    "# print(trigram_prob)"
   ]
  },
  {
   "cell_type": "markdown",
   "metadata": {},
   "source": [
    "#### Poetry generation for Unigram"
   ]
  },
  {
   "cell_type": "code",
   "execution_count": 7,
   "metadata": {},
   "outputs": [
    {
     "name": "stdout",
     "output_type": "stream",
     "text": [
      "and the these loves head of impe and throughout themes\n",
      "thy their off a pipe and great hiawatha northern people\n",
      "the stone walls bushes corn outward stooping excels land\n"
     ]
    }
   ],
   "source": [
    "gen_sentences, unigram_generation, uni_poem = [], [], \"\"\n",
    "\n",
    "for sentences in range(0,3):\n",
    "    persentence = []\n",
    "    start = random.choice(unigrams)      #Starting each sentence with random unigram\n",
    "    persentence.append(start)\n",
    "    for words in range(random.randint(6,9)):\n",
    "        word = random.choice(unigrams)   #Choosing random unigrams each time since unigrams do not utilize previous history of words\n",
    "        persentence.append(word)\n",
    "    gen_sentences.append(persentence)    #Generating list of new sentences\n",
    "\n",
    "for i in gen_sentences:\n",
    "    unigram_generation.append(' '.join(i))\n",
    "    \n",
    "for poem in unigram_generation:\n",
    "    print(poem)                          #Generated poem using unigram\n",
    "    uni_poem += poem + \" \""
   ]
  },
  {
   "cell_type": "markdown",
   "metadata": {},
   "source": [
    "#### Poetry generation for Bigram"
   ]
  },
  {
   "cell_type": "code",
   "execution_count": 8,
   "metadata": {},
   "outputs": [
    {
     "name": "stdout",
     "output_type": "stream",
     "text": [
      "it kindled in the forest with the forest with\n",
      "stone quarry gitche manito the forest with the forest with\n",
      "like a while hiawatha ye who love the\n"
     ]
    }
   ],
   "source": [
    "bgram_sentences, bigram_generation, bipoem = [], [], []\n",
    "\n",
    "for sentences in range(0,3):    \n",
    "    \n",
    "    persentence = []\n",
    "    start = random.choice(unigrams)      #Starting each sentence with random unigram\n",
    "    persentence.append(start)\n",
    "    bp = bigram_prob.keys()\n",
    "    for word in range(random.randint(6,9)): \n",
    "        maxprob = {}\n",
    "        for i in bp:\n",
    "            dp = i.split()          \n",
    "            if start == dp[0]:         #If previous word is present in bigram probability dict, then store all keys having that word\n",
    "                maxprob[i] = None\n",
    "        for prob in maxprob:           \n",
    "            if prob in bigram_prob.keys():   #Store values of all keys containing prev words\n",
    "                maxprob[prob] = bigram_prob[prob]\n",
    "        if maxprob:\n",
    "            max_key = max(maxprob, key=maxprob.get)   #Select the key with maximum probability \n",
    "            start = max_key.split()[1]                \n",
    "            persentence.append(start)                 #Append new word in the sentence\n",
    "\n",
    "    bgram_sentences.append(persentence)               #Generating list of new sentences\n",
    "               \n",
    "for i in bgram_sentences:\n",
    "    bigram_generation.append(' '.join(i)) \n",
    "    \n",
    "for poem in bigram_generation:\n",
    "    print(poem)                                      #Generated poem using bigram\n",
    "    bipoem.append(poem)\n"
   ]
  },
  {
   "cell_type": "markdown",
   "metadata": {},
   "source": [
    "#### Poetry generation for Trigram"
   ]
  },
  {
   "cell_type": "code",
   "execution_count": 9,
   "metadata": {},
   "outputs": [
    {
     "name": "stdout",
     "output_type": "stream",
     "text": [
      "kissing her garment thin which fancy made i\n",
      "you bring triumphant mart in loves and gentle jollities arrayd after\n",
      "\" ye who love the haunts of nature love the haunts\n"
     ]
    }
   ],
   "source": [
    "tgram_sentences, trigram_generation, tripoem = [], [], []\n",
    "\n",
    "for sentences in range(0,3):    \n",
    "    \n",
    "    persentence = []\n",
    "    start = random.choice(bigrams)      #Starting each sentence with random bigram\n",
    "    persentence.append(start)\n",
    "    tp = trigram_prob.keys()\n",
    "    \n",
    "    for word in range(random.randint(6,9)): \n",
    "        maxprob = {}\n",
    "        for i in tp:\n",
    "            dp = i.split()\n",
    "            lookup = dp[0]+ \" \" + dp[1]\n",
    "            \n",
    "            if start == lookup:       #If previous word is present in trigram probability dict, then store all keys having that word\n",
    "                maxprob[i] = None\n",
    "        for prob in maxprob:\n",
    "            if prob in trigram_prob.keys():   #Store values of all keys containing prev words\n",
    "                maxprob[prob] = trigram_prob[prob]\n",
    "        if maxprob:\n",
    "            max_key = max(maxprob, key=maxprob.get)   #Select the key with maximum probability\n",
    "            word_to_add = max_key.split()[2]\n",
    "            start = ' '.join(max_key.split()[1:])\n",
    "            persentence.append(word_to_add)           #Append two new words in the sentence\n",
    "\n",
    "    tgram_sentences.append(persentence)              #Generating list of new sentences\n",
    "               \n",
    "for i in tgram_sentences:\n",
    "    trigram_generation.append(' '.join(i))\n",
    "    \n",
    "for poem in trigram_generation:                      #Generated poem using bigram\n",
    "    print(poem)    \n",
    "    tripoem.append(poem)\n",
    "\n",
    "    "
   ]
  },
  {
   "cell_type": "markdown",
   "metadata": {},
   "source": [
    "#### Perplexity of newly generated poems using n-grams"
   ]
  },
  {
   "cell_type": "code",
   "execution_count": 10,
   "metadata": {},
   "outputs": [],
   "source": [
    "def uniperplexity(data):\n",
    "    sum = 0\n",
    "    boolean = False\n",
    "    s = uni_poem.split()      #Split into sentences\n",
    "    for x in s:\n",
    "        if x not in bigram_prob.keys():   #For each sentence, if word is not in unigram probability dict (unknown word), then set boolean = True, meaning we need to apply smoothing\n",
    "            boolean = True\n",
    "            \n",
    "    for unitok in s:\n",
    "        if boolean == True:         #If true, apply prob with smoothed values, else simple probablistic values      \n",
    "            if unitok not in unigram_prob.keys():   #If word is not in unigram probability, apply smoothing to this unknown word (0 + 1/length of unigram dictionary)\n",
    "                logs = 0.8/(0.8 * len(unigram_prob))\n",
    "            else: logs = smoothed_unigram[unitok]   #If word present, use the smoothed probabilistic bigrams\n",
    "        else: logs = unigram_prob[unitok]\n",
    "        prob = math.log(logs)                       #Apply perplexity\n",
    "        sum += prob\n",
    "    pp = (-1/len(s)) * sum \n",
    "    return pp"
   ]
  },
  {
   "cell_type": "code",
   "execution_count": 11,
   "metadata": {},
   "outputs": [],
   "source": [
    "def biperplexity(data):\n",
    "    sum = 0\n",
    "    boolean = False\n",
    "    pp_bigrams = []\n",
    "            \n",
    "    for i in data:\n",
    "        s = i.split()                       #Split into sentences\n",
    "        for index in range(len(s)-1):\n",
    "            pp_bigrams.append(s[index] + \" \" + s[index+1])   #Generated bigrams\n",
    "            \n",
    "    for x in pp_bigrams:\n",
    "        if x not in bigram_prob.keys():    #For each sentence, if word is not in bigram probability dict (unknown word), then set boolean = True, meaning we need to apply smoothing\n",
    "            boolean = True\n",
    "\n",
    "    for bitok in pp_bigrams:\n",
    "        if boolean == True:                #If true, apply prob with smoothed values, else simple probablistic values\n",
    "            if bitok not in bigram_prob.keys():     #If word is not in bigram probability, apply smoothing to this unknown word (0 + 1/length of bigram dictionary)\n",
    "                logs = 0.8/(0.8 * len(bigram_prob))\n",
    "            else:\n",
    "                logs = smoothed_bigram[bitok]       #If word present, use the smoothed probabilistic bigrams\n",
    "        else: logs = bigram_prob[bitok]\n",
    "            \n",
    "        prob = math.log(logs)                      #Apply perplexity\n",
    "        sum += prob\n",
    "\n",
    "    pp = (-1/len(pp_bigrams)) * sum\n",
    "    return pp"
   ]
  },
  {
   "cell_type": "code",
   "execution_count": 12,
   "metadata": {},
   "outputs": [],
   "source": [
    "def triperplexity(data):\n",
    "    sum = 0\n",
    "    boolean = False\n",
    "    pp_trigrams = []\n",
    "    for i in data:\n",
    "        s = i.split()                   #Split into sentences\n",
    "        for index in range(len(s)-2):\n",
    "            pp_trigrams.append(s[index] + \" \" + s[index+1] + \" \" + s[index+2])   #Generated trigrams\n",
    "            \n",
    "    for x in pp_trigrams:\n",
    "        if x not in bigram_prob.keys():  #For each sentence, if word is not in trigram probability dict (unknown word), then set boolean = True, meaning we need to apply smoothing\n",
    "            boolean = True               \n",
    "    \n",
    "    for tritok in pp_trigrams:\n",
    "        if boolean == True:              #If true, apply prob with smoothed values, else simple probablistic values\n",
    "            if tritok not in trigram_prob.keys():\n",
    "                logs = 0.8/(0.8 * len(trigram_prob))        #If word is not in trigram probability, apply smoothing to this unknown word (0 + 1/length of trigram dictionary)\n",
    "            else:\n",
    "                logs = smoothed_trigram[tritok]   #If word present, use the smoothed probabilistic bigrams\n",
    "\n",
    "        else: logs = trigram_prob[tritok]\n",
    "        prob = math.log(logs)\n",
    "        sum += prob                               #Apply perplexity        \n",
    "        \n",
    "    pp = (-1/len(pp_trigrams)) * sum\n",
    "    return pp"
   ]
  },
  {
   "cell_type": "code",
   "execution_count": 13,
   "metadata": {},
   "outputs": [
    {
     "data": {
      "text/plain": [
       "5.773227816638515"
      ]
     },
     "execution_count": 13,
     "metadata": {},
     "output_type": "execute_result"
    }
   ],
   "source": [
    "#Unigram Perplexity\n",
    "uni_perplexity = uniperplexity(uni_poem)\n",
    "uni_perplexity"
   ]
  },
  {
   "cell_type": "code",
   "execution_count": 14,
   "metadata": {},
   "outputs": [
    {
     "data": {
      "text/plain": [
       "1.4798190543648453"
      ]
     },
     "execution_count": 14,
     "metadata": {},
     "output_type": "execute_result"
    }
   ],
   "source": [
    "#Bigram Perplexity\n",
    "bi_perplexity = biperplexity(bipoem)\n",
    "bi_perplexity"
   ]
  },
  {
   "cell_type": "code",
   "execution_count": 15,
   "metadata": {},
   "outputs": [
    {
     "data": {
      "text/plain": [
       "6.460831683987577"
      ]
     },
     "execution_count": 15,
     "metadata": {},
     "output_type": "execute_result"
    }
   ],
   "source": [
    "#Trigram Perplexity\n",
    "tri_perplexity = triperplexity(tripoem)\n",
    "tri_perplexity"
   ]
  },
  {
   "cell_type": "markdown",
   "metadata": {},
   "source": [
    "#### Calculating Perplexity of Test data using Trained n-grams"
   ]
  },
  {
   "cell_type": "markdown",
   "metadata": {},
   "source": [
    "#### Reading test file"
   ]
  },
  {
   "cell_type": "code",
   "execution_count": 16,
   "metadata": {},
   "outputs": [],
   "source": [
    "with open('Test-perplexity.txt', 'rt', encoding=\"utf-8\") as r:\n",
    "    sentences = r.readlines()\n",
    "r.close()"
   ]
  },
  {
   "cell_type": "markdown",
   "metadata": {},
   "source": [
    "#### Tokenize data"
   ]
  },
  {
   "cell_type": "code",
   "execution_count": 17,
   "metadata": {},
   "outputs": [
    {
     "name": "stdout",
     "output_type": "stream",
     "text": [
      "['with their weapons and their war gear', 'painted like the leaves of autumn', 'painted like the sky of morning', 'wildly glaring at each other', 'in their faces stern defiance', 'in their hearts the feuds of ages', 'the hereditary hatred', 'the ancestral thirst of vengeance', 'gitche manito the mighty', 'the creator of the nations', 'looked upon them with compassion', 'with paternal love and pity', 'looked upon their wrath and wrangling', 'but as quarrels among children', 'but as feuds and fights of children', 'over them he stretched his right hand', 'to subdue their stubborn natures', 'to allay their thirst and fever', 'by the shadow of his right hand', 'spake to them with voice majestic', 'as the sound of far off waters', 'falling into deep abysses', 'warning chiding spake in this wise', 'o my children my poor children', 'listen to the words of wisdom', 'listen to the words of warning', 'from the lips of the great spirit', 'from the master of life who made you', 'i have given you lands to hunt in', 'i have given you streams to fish in', 'i have given you bear and bison', 'i have given you roe and reindeer', 'i have given you brant and beaver', 'filled the marshes full of wild fowl', 'filled the rivers full of fishes', 'why then are you not contented', 'why then will you hunt each other', 'i am weary of your quarrels', 'weary of your wars and bloodshed', 'weary of your prayers for vengeance', 'of your wranglings and dissensions', 'all your strength is in your union', 'all your danger is in discord', 'therefore be at peace henceforward', 'and as brothers live together', 'i will send a prophet to you', 'a deliverer of the nations', 'who shall guide you and shall teach you', 'who shall toil and suffer with you', 'if you listen to his counsels']\n"
     ]
    }
   ],
   "source": [
    "newsen, s, tokens = [], [], []\n",
    "nlp = spacy.load(\"en_core_web_sm\")\n",
    "for sentence in sentences:\n",
    "    sentence = sentence.lower()\n",
    "    doc = nlp(sentence)\n",
    "    \n",
    "    for token in doc:\n",
    "        tokens.append(token.text)\n",
    "\n",
    "punctuations = ['.', ',', ':', '?', '!', ';', '-', '\\\"']\n",
    "for word in tokens:\n",
    "    if word in punctuations:       \n",
    "        tokens.remove(word)         #Cleaning data\n",
    "        \n",
    "m = ' '.join(tokens)\n",
    "s.append(m.split('\\n'))             #Splitting cleaned into sentences\n",
    "for i in s[0]:\n",
    "    newsen.append(i.strip())        \n",
    "print(newsen)"
   ]
  },
  {
   "cell_type": "markdown",
   "metadata": {},
   "source": [
    "#### Perplexities of ngrams"
   ]
  },
  {
   "cell_type": "code",
   "execution_count": 18,
   "metadata": {},
   "outputs": [
    {
     "data": {
      "text/plain": [
       "5.773227816638515"
      ]
     },
     "execution_count": 18,
     "metadata": {},
     "output_type": "execute_result"
    }
   ],
   "source": [
    "test_uni_pp = uniperplexity(newsen)\n",
    "test_bi_pp = biperplexity(newsen)\n",
    "test_tri_pp = triperplexity(newsen)\n",
    "\n",
    "#Unigram Perplexity\n",
    "test_uni_pp"
   ]
  },
  {
   "cell_type": "code",
   "execution_count": 19,
   "metadata": {},
   "outputs": [
    {
     "data": {
      "text/plain": [
       "6.921422180125618"
      ]
     },
     "execution_count": 19,
     "metadata": {},
     "output_type": "execute_result"
    }
   ],
   "source": [
    "#Bigram Perplexity\n",
    "test_bi_pp"
   ]
  },
  {
   "cell_type": "code",
   "execution_count": 20,
   "metadata": {},
   "outputs": [
    {
     "data": {
      "text/plain": [
       "7.241755906219141"
      ]
     },
     "execution_count": 20,
     "metadata": {},
     "output_type": "execute_result"
    }
   ],
   "source": [
    "#Trigram Perplexity\n",
    "test_tri_pp"
   ]
  },
  {
   "cell_type": "code",
   "execution_count": null,
   "metadata": {},
   "outputs": [],
   "source": []
  }
 ],
 "metadata": {
  "kernelspec": {
   "display_name": "Python 3",
   "language": "python",
   "name": "python3"
  },
  "language_info": {
   "codemirror_mode": {
    "name": "ipython",
    "version": 3
   },
   "file_extension": ".py",
   "mimetype": "text/x-python",
   "name": "python",
   "nbconvert_exporter": "python",
   "pygments_lexer": "ipython3",
   "version": "3.8.5"
  }
 },
 "nbformat": 4,
 "nbformat_minor": 4
}
